{
 "cells": [
  {
   "cell_type": "markdown",
   "metadata": {},
   "source": [
    "# Cargando WDB en MongoDB"
   ]
  },
  {
   "cell_type": "code",
   "execution_count": 1,
   "metadata": {
    "collapsed": false
   },
   "outputs": [],
   "source": [
    "import pymongo \n",
    "from pymongo import MongoClient\n",
    "from pymongo.errors import DuplicateKeyError\n",
    "import csv"
   ]
  },
  {
   "cell_type": "code",
   "execution_count": 2,
   "metadata": {
    "collapsed": true
   },
   "outputs": [],
   "source": [
    "# connect to database\n",
    "connection = MongoClient('localhost', 27017)"
   ]
  },
  {
   "cell_type": "code",
   "execution_count": 3,
   "metadata": {
    "collapsed": false
   },
   "outputs": [],
   "source": [
    "# Borramos la base de datos\n",
    "connection.drop_database('SWP')\n",
    "\n",
    "# Pymongo permite una sintaxis practicamente igual que la original\n",
    "dbCnxSWP = connection.SWP"
   ]
  },
  {
   "cell_type": "markdown",
   "metadata": {},
   "source": [
    "### Preparamos el fichero para carga"
   ]
  },
  {
   "cell_type": "code",
   "execution_count": 4,
   "metadata": {
    "collapsed": false
   },
   "outputs": [
    {
     "name": "stdout",
     "output_type": "stream",
     "text": [
      "A/EGD/10|EGD|10|Mareon|Quheitt|Marion|White||||Female||0|0|Sammuelston|P/JO/3539|Haddington|Haddington||||||||||SMD|15/5/2001 11:06:51|jhm|9/8/2002 11:40:51\n",
      "A/EGD/100|EGD|100|Thom|Cockburn|Thomas|Cockburn||||Male||0|0||||Haddington||||||||||SMD|15/5/2001 11:06:51|jhm|2/10/2002 10:32:30\n",
      "A/EGD/1000|EGD|1000|Christian|Aitkenhead|Christine|Aikenhead||||Female||0|0|Rottinraw|||Dumfries||||||Married||||SMD|15/5/2001 11:06:51|jhm|1/10/2002 10:48:12\n",
      "3219 /home/learner/notebooks/data/WDB_Accused_loadMongoDB.txt\n"
     ]
    }
   ],
   "source": [
    "!cat /home/learner/notebooks/data/WDB_Accused.txt      \\\n",
    "    | perl -pe 's/^(\\r\\n)//g'                          \\\n",
    "    | perl -pe 's/([^:]..)\\r\\n/\\1\\\\r\\\\n/g'             \\\n",
    "    | sed -e ':a;s/^\\(\\(\"[^\"]*\"\\|[^\",]*\\)*\\),/\\1|/;ta' \\\n",
    "    | sed 's/\"//g'                                   \\\n",
    "    > /home/learner/notebooks/data/WDB_Accused_loadMongoDB.txt\n",
    "\n",
    "#    | perl -pe 's/^(\\r\\n)//g' \\                          # Delete lines whith return alone\n",
    "#    | perl -pe 's/([^:]..)\\r\\n/\\1\\\\r\\\\n/g' \\             # Delete return whith third char to the left not :\n",
    "#    | sed -e ':a;s/^\\(\\(\"[^\"]*\"\\|[^\",]*\\)*\\),/\\1|/;ta' \\ # Replace delimiter , with | (not between \"\")\n",
    "#    | sed -e '/|$/d' \\                                   # Filter line with Age not informed\n",
    "\n",
    "!head -3 /home/learner/notebooks/data/WDB_Accused_loadMongoDB.txt\n",
    "!wc -l /home/learner/notebooks/data/WDB_Accused_loadMongoDB.txt"
   ]
  },
  {
   "cell_type": "code",
   "execution_count": 5,
   "metadata": {
    "collapsed": false
   },
   "outputs": [
    {
     "name": "stdout",
     "output_type": "stream",
     "text": [
      "\r",
      "WDB_Accused_csvLine: A/EGD/10|EGD|10|Mareon|Quheitt|Marion|White||||Female||0|0|Sammuelston|P/JO/3539|Haddington|Haddington||||||||||SMD|15/5/2001 11:06:51|jhm|9/8/2002 11:40:51\r\n",
      "\r",
      "WDB_Accused_csvLine: A/EGD/100|EGD|100|Thom|Cockburn|Thomas|Cockburn||||Male||0|0||||Haddington||||||||||SMD|15/5/2001 11:06:51|jhm|2/10/2002 10:32:30\r\n",
      "\r",
      "WDB_Accused_csvLine: A/EGD/1000|EGD|1000|Christian|Aitkenhead|Christine|Aikenhead||||Female||0|0|Rottinraw|||Dumfries||||||Married||||SMD|15/5/2001 11:06:51|jhm|1/10/2002 10:48:12\r\n",
      "\r",
      "WDB_Accused_csvLine: A/EGD/1001|EGD|1001|Janet|Ireland|Janet|Ireland||||Female||0|0|Rottinraw|||Dumfries||||||Widowed||||SMD|15/5/2001 11:06:51|jhm|1/10/2002 10:49:00\r\n",
      "\r",
      "WDB_Accused_csvLine: A/EGD/1002|EGD|1002|Agnes|Hendersoun|Agnes|Henderson||||Female||0|0||P/ST/1446|Stirling|Stirling||||||||||SMD|15/5/2001 11:06:51|jhm|1/10/2002 10:50:07\r\n",
      "\r",
      "WDB_Accused_csvLine: A/EGD/1003|EGD|1003|Margaret|Young|Margaret|Young||||Female||0|0||P/ST/1359|Haddington|Haddington||||||||||SMD|15/5/2001 11:06:51|jhm|1/10/2002 10:51:51\r\n"
     ]
    }
   ],
   "source": [
    "WDB_Accused_data_path = '/home/learner/notebooks/data/WDB_Accused_loadMongoDB.txt'\n",
    "WDB_Accused_csvFile = open(WDB_Accused_data_path, \"r\")\n",
    "iMax = 5\n",
    "i = 0\n",
    "for WDB_Accused_csvLine in WDB_Accused_csvFile:\n",
    "    print \"\\rWDB_Accused_csvLine:\", WDB_Accused_csvLine,\n",
    "    i = i + 1\n",
    "    if i > iMax:\n",
    "        break\n",
    "WDB_Accused_csvFile.close()"
   ]
  },
  {
   "cell_type": "code",
   "execution_count": 6,
   "metadata": {
    "collapsed": false,
    "scrolled": true
   },
   "outputs": [
    {
     "name": "stdout",
     "output_type": "stream",
     "text": [
      "[]\n",
      "0\n"
     ]
    }
   ],
   "source": [
    "print dbCnxSWP.collection_names()\n",
    "\n",
    "print dbCnxSWP.WDB_Accused.count()\n"
   ]
  },
  {
   "cell_type": "code",
   "execution_count": 7,
   "metadata": {
    "collapsed": false
   },
   "outputs": [
    {
     "name": "stdout",
     "output_type": "stream",
     "text": [
      "0\n",
      "result.inserted_id: A/LA/3244 3220\n"
     ]
    }
   ],
   "source": [
    "from pymongo import InsertOne, DeleteOne, ReplaceOne\n",
    "\n",
    "# Eliminamos antes resultados de cargas anteriores\n",
    "result = dbCnxSWP.WDB_Accused.delete_many({})\n",
    "print result.deleted_count\n",
    "\n",
    "WDB_Accused_csvFile = open(WDB_Accused_data_path, \"r\")\n",
    "\n",
    "iMax = 5000\n",
    "i = 1\n",
    "\n",
    "for WDB_Accused_csvLine in WDB_Accused_csvFile:\n",
    "\n",
    "    if i > iMax:\n",
    "        break\n",
    "\n",
    "    i = i + 1 \n",
    "\n",
    "    result = dbCnxSWP.WDB_Accused.insert_one(\n",
    "            {\n",
    "                \"_id\"       \t\t: WDB_Accused_csvLine.split(\"|\")[0],\n",
    "                \"AccusedRef\"\t\t: WDB_Accused_csvLine.split(\"|\")[0],\n",
    "                \"AccusedSystemId\"\t: WDB_Accused_csvLine.split(\"|\")[1],\n",
    "                \"AccusedID\"\t\t\t: WDB_Accused_csvLine.split(\"|\")[2],\n",
    "                \"FirstName\"\t\t\t: WDB_Accused_csvLine.split(\"|\")[3],\n",
    "                \"LastName\"\t\t\t: WDB_Accused_csvLine.split(\"|\")[4],\n",
    "                \"M_Firstname\"\t\t: WDB_Accused_csvLine.split(\"|\")[5],\n",
    "                \"M_Surname\"\t\t\t: WDB_Accused_csvLine.split(\"|\")[6],\n",
    "                \"Alias\"\t\t\t\t: WDB_Accused_csvLine.split(\"|\")[7],\n",
    "                \"Patronymic\"\t\t: WDB_Accused_csvLine.split(\"|\")[8],\n",
    "                \"DesTitle\"\t\t\t: WDB_Accused_csvLine.split(\"|\")[9],\n",
    "                \"Sex\"\t\t\t\t: WDB_Accused_csvLine.split(\"|\")[10],\n",
    "                \"Age\"\t\t\t\t: WDB_Accused_csvLine.split(\"|\")[11],\n",
    "                \"Age_estcareer\"\t\t: WDB_Accused_csvLine.split(\"|\")[12],\n",
    "                \"Age_estchild\"\t\t: WDB_Accused_csvLine.split(\"|\")[13],\n",
    "                \"Res_settlement\"\t: WDB_Accused_csvLine.split(\"|\")[14],\n",
    "                \"Res_parish\"\t\t: WDB_Accused_csvLine.split(\"|\")[15],\n",
    "                \"Res_presbytery\"\t: WDB_Accused_csvLine.split(\"|\")[16],\n",
    "                \"Res_county\"\t\t: WDB_Accused_csvLine.split(\"|\")[17],\n",
    "                \"Res_burgh\"\t\t\t: WDB_Accused_csvLine.split(\"|\")[18],\n",
    "                \"Res_NGR_Letters\"\t: WDB_Accused_csvLine.split(\"|\")[19],\n",
    "                \"Res_NGR_Easting\"\t: WDB_Accused_csvLine.split(\"|\")[20],\n",
    "                \"Res_NGR_Northing\"\t: WDB_Accused_csvLine.split(\"|\")[21],\n",
    "                \"Ethnic_origin\"\t\t: WDB_Accused_csvLine.split(\"|\")[22],\n",
    "                \"MaritalStatus\"\t\t: WDB_Accused_csvLine.split(\"|\")[23],\n",
    "                \"SocioecStatus\"\t\t: WDB_Accused_csvLine.split(\"|\")[24],\n",
    "                \"Occupation\"\t\t: WDB_Accused_csvLine.split(\"|\")[25],\n",
    "                \"Notes\"\t\t\t\t: WDB_Accused_csvLine.split(\"|\")[26],\n",
    "                \"Createdby\"\t\t\t: WDB_Accused_csvLine.split(\"|\")[27],\n",
    "                \"Createdate\"\t\t: WDB_Accused_csvLine.split(\"|\")[28],\n",
    "                \"Lastupdatedby\"\t\t: WDB_Accused_csvLine.split(\"|\")[29],\n",
    "                \"Lastupdatedon\"\t\t: WDB_Accused_csvLine.split(\"|\")[30],\n",
    "            }\n",
    "        )\n",
    "    print \"\\rresult.inserted_id:\", result.inserted_id, i, \n",
    "    \n",
    "    \n",
    "WDB_Accused_csvFile.close()\n"
   ]
  },
  {
   "cell_type": "code",
   "execution_count": 8,
   "metadata": {
    "collapsed": true
   },
   "outputs": [],
   "source": [
    "dbCnxSWP.WDB_Accused.drop_indexes()"
   ]
  },
  {
   "cell_type": "code",
   "execution_count": 9,
   "metadata": {
    "collapsed": false
   },
   "outputs": [
    {
     "data": {
      "text/plain": [
       "u'AccusedRef_1'"
      ]
     },
     "execution_count": 9,
     "metadata": {},
     "output_type": "execute_result"
    }
   ],
   "source": [
    "dbCnxSWP.WDB_Accused.create_index(\"AccusedRef\", unique=True)"
   ]
  },
  {
   "cell_type": "code",
   "execution_count": 10,
   "metadata": {
    "collapsed": false
   },
   "outputs": [
    {
     "name": "stdout",
     "output_type": "stream",
     "text": [
      "SON([(u'v', 2), (u'key', SON([(u'_id', 1)])), (u'name', u'_id_'), (u'ns', u'SWP.WDB_Accused')])\n",
      "SON([(u'v', 2), (u'unique', True), (u'key', SON([(u'AccusedRef', 1)])), (u'name', u'AccusedRef_1'), (u'ns', u'SWP.WDB_Accused')])\n"
     ]
    }
   ],
   "source": [
    "for index in dbCnxSWP.WDB_Accused.list_indexes():\n",
    "    print index"
   ]
  },
  {
   "cell_type": "code",
   "execution_count": 11,
   "metadata": {
    "collapsed": false
   },
   "outputs": [
    {
     "data": {
      "text/plain": [
       "{u'AccusedRef_1': {u'key': [(u'AccusedRef', 1)],\n",
       "  u'ns': u'SWP.WDB_Accused',\n",
       "  u'unique': True,\n",
       "  u'v': 2},\n",
       " u'_id_': {u'key': [(u'_id', 1)], u'ns': u'SWP.WDB_Accused', u'v': 2}}"
      ]
     },
     "execution_count": 11,
     "metadata": {},
     "output_type": "execute_result"
    }
   ],
   "source": [
    "dbCnxSWP.WDB_Accused.index_information()"
   ]
  },
  {
   "cell_type": "markdown",
   "metadata": {
    "collapsed": true
   },
   "source": [
    "## Contamos el número de registros cargados"
   ]
  },
  {
   "cell_type": "code",
   "execution_count": 12,
   "metadata": {
    "collapsed": false
   },
   "outputs": [
    {
     "name": "stdout",
     "output_type": "stream",
     "text": [
      "Número de WDB_Accused:  3219\n"
     ]
    }
   ],
   "source": [
    "print \"Número de WDB_Accused: \" , dbCnxSWP.WDB_Accused.count()"
   ]
  },
  {
   "cell_type": "markdown",
   "metadata": {},
   "source": [
    "### Preparamos fichero WDB_Accused_family para la carga"
   ]
  },
  {
   "cell_type": "code",
   "execution_count": 13,
   "metadata": {
    "collapsed": false
   },
   "outputs": [
    {
     "name": "stdout",
     "output_type": "stream",
     "text": [
      "AF/JO/1|JO|1|Leyis|John||||||0|0|stabler|husband|A/EGD/2067|jhm|16/5/2001 14:45:56|jhm|16/5/2001 14:48:31\n",
      "AF/JO/10|JO|10|Wischert|Jonet||||||0|0||Mother|A/EGD/2068|jhm|17/5/2001 16:24:38|jhm|17/5/2001 16:25:23\n",
      "AF/JO/100|JO|100|Smiberd|Thomas|||||50|0|1||Father|A/EGD/1022|jhm|3/7/2001 09:14:26|jhm|3/7/2001 09:14:39\n",
      "951 /home/learner/notebooks/data/WDB_Accused_family_loadMongoDB.txt\n"
     ]
    }
   ],
   "source": [
    "!cat /home/learner/notebooks/data/WDB_Accused_family.txt      \\\n",
    "    | perl -pe 's/^(\\r\\n)//g'                          \\\n",
    "    | perl -pe 's/([^:]..)\\r\\n/\\1\\\\r\\\\n/g'             \\\n",
    "    | sed -e ':a;s/^\\(\\(\"[^\"]*\"\\|[^\",]*\\)*\\),/\\1|/;ta' \\\n",
    "    | sed 's/\"//g'                                   \\\n",
    "    > /home/learner/notebooks/data/WDB_Accused_family_loadMongoDB.txt\n",
    "\n",
    "!head -3 /home/learner/notebooks/data/WDB_Accused_family_loadMongoDB.txt\n",
    "!wc -l /home/learner/notebooks/data/WDB_Accused_family_loadMongoDB.txt"
   ]
  },
  {
   "cell_type": "code",
   "execution_count": 14,
   "metadata": {
    "collapsed": false
   },
   "outputs": [
    {
     "name": "stdout",
     "output_type": "stream",
     "text": [
      "\r",
      "WDB_Accused_family_csvLine: AF/JO/1|JO|1|Leyis|John||||||0|0|stabler|husband|A/EGD/2067|jhm|16/5/2001 14:45:56|jhm|16/5/2001 14:48:31\r\n",
      "A/EGD/2067\n",
      "\r",
      "WDB_Accused_family_csvLine: AF/JO/10|JO|10|Wischert|Jonet||||||0|0||Mother|A/EGD/2068|jhm|17/5/2001 16:24:38|jhm|17/5/2001 16:25:23\r\n",
      "A/EGD/2068\n",
      "\r",
      "WDB_Accused_family_csvLine: AF/JO/100|JO|100|Smiberd|Thomas|||||50|0|1||Father|A/EGD/1022|jhm|3/7/2001 09:14:26|jhm|3/7/2001 09:14:39\r\n",
      "A/EGD/1022\n",
      "\r",
      "WDB_Accused_family_csvLine: AF/JO/101|JO|101|Smiberd|Thomas|||||50|0|1||Husband|A/EGD/1023|jhm|3/7/2001 09:33:20|jhm|3/7/2001 09:33:37\r\n",
      "A/EGD/1023\n",
      "\r",
      "WDB_Accused_family_csvLine: AF/JO/102|JO|102|Smiberd|Jenet|||||25|1|0||Daughter|A/EGD/1023|jhm|3/7/2001 09:33:39|jhm|3/7/2001 09:33:59\r\n",
      "A/EGD/1023\n",
      "\r",
      "WDB_Accused_family_csvLine: AF/JO/103|JO|103|Phenick|John|||||50|0|1|Tailor|Father|A/EGD/1204|jhm|4/7/2001 10:42:22|jhm|4/7/2001 10:43:16\r\n",
      "A/EGD/1204\n"
     ]
    }
   ],
   "source": [
    "# Ensayo de lectura del fichero identificando la clave\n",
    "# que nos servirá para localizar el documento donde tenemos que incluir cada registro\n",
    "\n",
    "WDB_Accused_family_data_path = '/home/learner/notebooks/data/WDB_Accused_family_loadMongoDB.txt'\n",
    "WDB_Accused_family_csvFile = open(WDB_Accused_family_data_path, \"r\")\n",
    "\n",
    "iMax = 5\n",
    "i = 0\n",
    "for WDB_Accused_family_csvLine in WDB_Accused_family_csvFile:\n",
    "    print \"\\rWDB_Accused_family_csvLine:\", WDB_Accused_family_csvLine,\n",
    "    print WDB_Accused_family_csvLine.split(\"|\")[14]\n",
    "    i = i + 1\n",
    "    if i > iMax:\n",
    "        break\n",
    "WDB_Accused_family_csvFile.close()"
   ]
  },
  {
   "cell_type": "code",
   "execution_count": 15,
   "metadata": {
    "collapsed": false
   },
   "outputs": [
    {
     "name": "stdout",
     "output_type": "stream",
     "text": [
      "951 Modificados: 951  No modificados: 0\n"
     ]
    }
   ],
   "source": [
    "from pymongo import InsertOne, DeleteOne, ReplaceOne, UpdateOne\n",
    "\n",
    "iMax = 3\n",
    "i = 0\n",
    "nmods = 0\n",
    "nnomods = 0\n",
    "\n",
    "WDB_Accused_family_data_path = '/home/learner/notebooks/data/WDB_Accused_family_loadMongoDB.txt'\n",
    "WDB_Accused_family_csvFile = open(WDB_Accused_family_data_path, \"r\")\n",
    "\n",
    "for WDB_Accused_family_csvLine in WDB_Accused_family_csvFile:\n",
    "\n",
    "#    if i > iMax:\n",
    "#        break\n",
    "\n",
    "    i = i + 1 \n",
    "\n",
    "    result = dbCnxSWP.WDB_Accused.update_one(\n",
    "        { \"_id\": WDB_Accused_family_csvLine.split(\"|\")[14]},\n",
    "        { '$push': { \"Accused_family\" : {\n",
    "                                        \"Accused_familyRef\"\t\t: WDB_Accused_family_csvLine.split(\"|\")[0],\n",
    "                                        \"Accused_familySystemId\": WDB_Accused_family_csvLine.split(\"|\")[1],\n",
    "                                        \"Accused_familyID\"\t\t: WDB_Accused_family_csvLine.split(\"|\")[2],\n",
    "                                        \"Surname\"\t\t\t\t: WDB_Accused_family_csvLine.split(\"|\")[3],\n",
    "                                        \"Firstname\"\t\t\t\t: WDB_Accused_family_csvLine.split(\"|\")[4],\n",
    "                                        \"Alias\"\t\t\t\t\t: WDB_Accused_family_csvLine.split(\"|\")[5],\n",
    "                                        \"Patronymic\"\t\t\t: WDB_Accused_family_csvLine.split(\"|\")[6],\n",
    "                                        \"DesTitle\"\t\t\t\t: WDB_Accused_family_csvLine.split(\"|\")[7],\n",
    "                                        \"Est_Year_of_Birth\"\t\t: WDB_Accused_family_csvLine.split(\"|\")[8],\n",
    "                                        \"Age\"\t\t\t\t\t: WDB_Accused_family_csvLine.split(\"|\")[9],\n",
    "                                        \"Age_estcareer\"\t\t\t: WDB_Accused_family_csvLine.split(\"|\")[10],\n",
    "                                        \"Age_estchild\"\t\t\t: WDB_Accused_family_csvLine.split(\"|\")[11],\n",
    "                                        \"Occupation\"\t\t\t: WDB_Accused_family_csvLine.split(\"|\")[12],\n",
    "                                        \"Relationship\"\t\t\t: WDB_Accused_family_csvLine.split(\"|\")[13],\n",
    "                                        \"AccusedRef\"\t\t\t: WDB_Accused_family_csvLine.split(\"|\")[14],\n",
    "                                        \"Createdby\"\t\t\t\t: WDB_Accused_family_csvLine.split(\"|\")[15],\n",
    "                                        \"Createdate\"\t\t\t: WDB_Accused_family_csvLine.split(\"|\")[16],\n",
    "                                        \"Lastupdatedby\"\t\t\t: WDB_Accused_family_csvLine.split(\"|\")[17],\n",
    "                                        \"Lastupdatedon\"\t\t\t: WDB_Accused_family_csvLine.split(\"|\")[18]\n",
    "                                        }\n",
    "                } \n",
    "        }\n",
    "        );\n",
    "\n",
    "    if result.modified_count == 1:\n",
    "        nmods = nmods + 1\n",
    "    else:\n",
    "        nnomods = nnomods + 1\n",
    "    \n",
    "    print \"\\r\", i, \"Modificados:\", nmods, \" No modificados:\", nnomods,\n",
    "    \n",
    "\n",
    "WDB_Accused_family_csvFile.close()\n"
   ]
  },
  {
   "cell_type": "code",
   "execution_count": 16,
   "metadata": {
    "collapsed": false,
    "scrolled": true
   },
   "outputs": [
    {
     "name": "stdout",
     "output_type": "stream",
     "text": [
      "WDB_Accused[Accused_family][0]: {u'AccusedRef': u'A/EGD/143', u'Lastupdatedon': u'8/10/2002 14:41:09\\r\\n', u'Surname': u'Erskine', u'Relationship': u'Nephew', u'Firstname': u'Johnne', u'Age_estcareer': u'0', u'Age_estchild': u'0', u'Createdate': u'8/10/2002 14:41:03', u'Accused_familySystemId': u'JO', u'Est_Year_of_Birth': u'', u'Accused_familyID': u'698', u'Alias': u'', u'DesTitle': u'', u'Lastupdatedby': u'jhm', u'Createdby': u'jhm', u'Accused_familyRef': u'AF/JO/698', u'Patronymic': u'', u'Age': u'', u'Occupation': u''}\n",
      "WDB_Accused[Accused_family][5]: {u'AccusedRef': u'A/EGD/143', u'Lastupdatedon': u'26/6/2001 12:19:15\\r\\n', u'Surname': u'Erskine', u'Relationship': u'Father', u'Firstname': u'Johnne', u'Age_estcareer': u'0', u'Age_estchild': u'0', u'Createdate': u'26/6/2001 12:18:54', u'Accused_familySystemId': u'LA', u'Est_Year_of_Birth': u'', u'Accused_familyID': u'83', u'Alias': u'', u'DesTitle': u'', u'Lastupdatedby': u'LEM', u'Createdby': u'LEM', u'Accused_familyRef': u'AF/LA/83', u'Patronymic': u'', u'Age': u'', u'Occupation': u''}\n"
     ]
    }
   ],
   "source": [
    "# Recuperamos uno de los registros cargados\n",
    "for WDB_Accused in dbCnxSWP.WDB_Accused.find({\"_id\":\"A/EGD/143\"}):\n",
    "#    print \"WDB_Accused:\",WDB_Accused\n",
    "#    print \"WDB_Accused[FirstName]:\",WDB_Accused[\"FirstName\"]\n",
    "#    print \"WDB_Accused[Accused_family]:\",WDB_Accused[\"Accused_family\"]\n",
    "    print \"WDB_Accused[Accused_family][0]:\",WDB_Accused[\"Accused_family\"][0]\n",
    "    print \"WDB_Accused[Accused_family][5]:\",WDB_Accused[\"Accused_family\"][5]\n",
    "    "
   ]
  },
  {
   "cell_type": "code",
   "execution_count": 17,
   "metadata": {
    "collapsed": true
   },
   "outputs": [],
   "source": [
    "dbCnxSWP.WDB_Accused.Accused_family.drop_indexes()"
   ]
  },
  {
   "cell_type": "code",
   "execution_count": 18,
   "metadata": {
    "collapsed": false
   },
   "outputs": [
    {
     "data": {
      "text/plain": [
       "u'Accused_family.Accused_familyRef_1'"
      ]
     },
     "execution_count": 18,
     "metadata": {},
     "output_type": "execute_result"
    }
   ],
   "source": [
    "dbCnxSWP.WDB_Accused.Accused_family.create_index(\"Accused_family.Accused_familyRef\", unique=True, sparse=True  )"
   ]
  },
  {
   "cell_type": "code",
   "execution_count": 19,
   "metadata": {
    "collapsed": false
   },
   "outputs": [
    {
     "data": {
      "text/plain": [
       "{u'Accused_family.Accused_familyRef_1': {u'key': [(u'Accused_family.Accused_familyRef',\n",
       "    1)],\n",
       "  u'ns': u'SWP.WDB_Accused.Accused_family',\n",
       "  u'sparse': True,\n",
       "  u'unique': True,\n",
       "  u'v': 2},\n",
       " u'_id_': {u'key': [(u'_id', 1)],\n",
       "  u'ns': u'SWP.WDB_Accused.Accused_family',\n",
       "  u'v': 2}}"
      ]
     },
     "execution_count": 19,
     "metadata": {},
     "output_type": "execute_result"
    }
   ],
   "source": [
    "dbCnxSWP.WDB_Accused.Accused_family.index_information()"
   ]
  },
  {
   "cell_type": "markdown",
   "metadata": {},
   "source": [
    "### Duda: Con estos índices no he conseguido que falle la inserción del subdocumento con los familiares cuando se realiza dos veces. Se duplican los registros."
   ]
  },
  {
   "cell_type": "markdown",
   "metadata": {},
   "source": [
    "# Comenzamos a hacernos preguntas interesantes\n",
    "## ¿Cuántos familiares tenían los acusados?"
   ]
  },
  {
   "cell_type": "code",
   "execution_count": 20,
   "metadata": {
    "collapsed": false
   },
   "outputs": [
    {
     "name": "stdout",
     "output_type": "stream",
     "text": [
      "{u'_id': {u'relatives': 1}, u'Accuseds': 554}\n",
      "{u'_id': {u'relatives': 2}, u'Accuseds': 93}\n",
      "{u'_id': {u'relatives': 3}, u'Accuseds': 35}\n",
      "{u'_id': {u'relatives': 5}, u'Accuseds': 10}\n",
      "{u'_id': {u'relatives': 4}, u'Accuseds': 8}\n",
      "{u'_id': {u'relatives': 6}, u'Accuseds': 4}\n"
     ]
    }
   ],
   "source": [
    "cursor = dbCnxSWP.WDB_Accused.aggregate( [ { \"$unwind\": \"$Accused_family\" }\n",
    "                                         , { \"$group\" : { \"_id\" : \"$AccusedRef\"\n",
    "                                                        ,\"relatives\": { \"$sum\" : 1 }\n",
    "                                                         }\n",
    "                                            }\n",
    "                                         , { \"$group\" : { \"_id\" : { \"relatives\" :\"$relatives\" }\n",
    "                                                        ,\"Accuseds\": { \"$sum\" : 1 }\n",
    "                                                         }\n",
    "                                            }\n",
    "                                         , { \"$sort\"  : { \"Accuseds\" : -1 } }\n",
    "                                        ] )\n",
    "\n",
    "for item in cursor:\n",
    "    print item"
   ]
  },
  {
   "cell_type": "markdown",
   "metadata": {},
   "source": [
    "## ¿Qué acusados tenían más familiares?"
   ]
  },
  {
   "cell_type": "code",
   "execution_count": 21,
   "metadata": {
    "collapsed": false,
    "scrolled": true
   },
   "outputs": [
    {
     "name": "stdout",
     "output_type": "stream",
     "text": [
      "Acusados con más familiares registrados:\n",
      "Issobell Erskine: 6 familiares.\n",
      "Annas Erskine: 6 familiares.\n",
      "Margret Jackson: 6 familiares.\n",
      "Katherine Wilson: 6 familiares.\n",
      "Annabell Stewart: 5 familiares.\n",
      "Jonet Mathie: 5 familiares.\n",
      "Johnnet Wischert: 5 familiares.\n",
      "Violat Leyis: 5 familiares.\n",
      "Jonet Leyis: 5 familiares.\n",
      "Elspet Leyis: 5 familiares.\n"
     ]
    }
   ],
   "source": [
    "cursor = dbCnxSWP.WDB_Accused.aggregate( [ { \"$unwind\": \"$Accused_family\" }\n",
    "                                         , { \"$group\" : { \"_id\" : { \"AccusedRef\" :  \"$AccusedRef\"\n",
    "                                                                   , \"FirstName\" : \"$FirstName\"\n",
    "                                                                   , \"LastName\"  : \"$LastName\"\n",
    "                                                                  }\n",
    "                                                        ,\"relatives\": { \"$sum\" : 1 }\n",
    "                                                         }\n",
    "                                            }\n",
    "                                         , { \"$sort\"  : { \"relatives\" : -1 } }\n",
    "                                         , { \"$limit\" : 10 }\n",
    "                                        ] )\n",
    "\n",
    "print \"Acusados con más familiares registrados:\"\n",
    "for item in cursor:\n",
    "    print item[\"_id\"][\"FirstName\"], item[\"_id\"][\"LastName\"]+\":\", item[\"relatives\"], \"familiares.\""
   ]
  },
  {
   "cell_type": "markdown",
   "metadata": {},
   "source": [
    "### ¿Quienes eran sus familiares y que relación tenían?"
   ]
  },
  {
   "cell_type": "code",
   "execution_count": 22,
   "metadata": {
    "collapsed": false
   },
   "outputs": [
    {
     "name": "stdout",
     "output_type": "stream",
     "text": [
      "\n",
      "Relatives of Issobell Erskine:\n",
      "\t* Nephew: Johnne Erskine\n",
      "\t* Nephew: Alexander Erskine\n",
      "\t* Brother: Robert Erskine\n",
      "\t* Sister: Annas Erskine\n",
      "\t* Sister: Helene Erskine\n",
      "\t* Father: Johnne Erskine\n",
      "\n",
      "Relatives of Annas Erskine:\n",
      "\t* Nephew: Johnne Erskine\n",
      "\t* Nephew: Alexnder Erskine\n",
      "\t* Brother: Robert Erskine\n",
      "\t* Sister: Helene Erskine\n",
      "\t* Sister: Issobell Erskine\n",
      "\t* Father: Johnne Erskine\n",
      "\n",
      "Relatives of Margret Jackson:\n",
      "\t* Husband: Thomas Stewart\n",
      "\t* In-law: Annabell Stewart\n",
      "\t* In-law: John Stewart\n",
      "\t* In-law: Hugh Stewart\n",
      "\t* In-law: Jonet Mathie\n",
      "\t* In-law: John Stewart\n",
      "\n",
      "Relatives of Katherine Wilson:\n",
      "\t* Son: James Ruchheid\n",
      "\t* Daughter: Margaret Ruchheid\n",
      "\t* Husband: Thomas Ruchheid\n",
      "\t* Sister: Margaret Wilson\n",
      "\t* Son-in-law: John Home\n",
      "\t* Brother-in-law: Johne Prat\n",
      "\n",
      "Relatives of Annabell Stewart:\n",
      "\t* Father: Jon Stewart\n",
      "\t* Brother: Jon Stewart\n",
      "\t* Mother: Jonet Mathie\n",
      "\t* Brother: Hugh Stewart\n",
      "\t* In-law: Margaret Jackson\n",
      "\n",
      "Relatives of Jonet Mathie:\n",
      "\t* Husband: Jon Stewart\n",
      "\t* Son: Jon Stewart\n",
      "\t* Daughter: Annabell Stewart\n",
      "\t* Son: Hugh Stewart\n",
      "\t* In-law: Margaret Jackson\n",
      "\n",
      "Relatives of Johnnet Wischert:\n",
      "\t* husband: John Leyis\n",
      "\t* daughter: Violet Leyis\n",
      "\t* son: Thomas Leyis\n",
      "\t* daughter: Elspet Leyis\n",
      "\t* daughter: Janet Leyis\n",
      "\n",
      "Relatives of Violat Leyis:\n",
      "\t* Father: John Leyis\n",
      "\t* Mother: Janet Wischet\n",
      "\t* Brother: Thomas Leyis\n",
      "\t* Sister: Elspet Leyis\n",
      "\t* Sister: Jonet Leyis\n",
      "\n",
      "Relatives of Jonet Leyis:\n",
      "\t* Father: John Leyis\n",
      "\t* Brother: Thomas Leyis\n",
      "\t* Mother: Janet Wischert\n",
      "\t* Sister: Violet Leyis\n",
      "\t* Sister: Elspet Leyis\n",
      "\n",
      "Relatives of Elspet Leyis:\n",
      "\t* Father: John Leyis\n",
      "\t* Sister: Janet Leyis\n",
      "\t* Sister: Violet Leyis\n",
      "\t* Brother: Thomas Leyis\n",
      "\t* Mother: Johnnet Wischert\n"
     ]
    }
   ],
   "source": [
    "csrAccused = dbCnxSWP.WDB_Accused.aggregate( [ { \"$unwind\": \"$Accused_family\" }\n",
    "                                         , { \"$group\" : { \"_id\" : { \"AccusedRef\" :  \"$AccusedRef\"\n",
    "                                                                   , \"FirstName\" : \"$FirstName\"\n",
    "                                                                   , \"LastName\"  : \"$LastName\"\n",
    "                                                                  }\n",
    "                                                        ,\"relatives\": { \"$sum\" : 1 }\n",
    "                                                         }\n",
    "                                            }\n",
    "                                         , { \"$sort\"  : { \"relatives\" : -1 } }\n",
    "                                         , { \"$limit\" : 10 }\n",
    "                                        ] )\n",
    "\n",
    "for accusedAgg in csrAccused:\n",
    "    for accused in dbCnxSWP.WDB_Accused.find({\"_id\":accusedAgg[\"_id\"][\"AccusedRef\"]}):\n",
    "        print \"\\nRelatives of\", accused[\"FirstName\"], accused[\"LastName\"] + ':'\n",
    "        for accused_family in accused[\"Accused_family\"]:\n",
    "            print \"\\t*\", accused_family[\"Relationship\"]+\":\", accused_family[\"Firstname\"], accused_family[\"Surname\"]"
   ]
  },
  {
   "cell_type": "markdown",
   "metadata": {},
   "source": [
    "### Un ejemplo de uso de información no estructurada. El clásico conteo de palabras con map-reduce.\n",
    "#### Veamos cuales fueron los *trending topics* en los comentarios respecto a los acusados"
   ]
  },
  {
   "cell_type": "code",
   "execution_count": 23,
   "metadata": {
    "collapsed": true
   },
   "outputs": [],
   "source": [
    "from bson.code import Code\n",
    "mapper = Code(\"\"\"\n",
    "               function () {\n",
    "                 this.Notes.split(\" \").forEach(function(z) {\n",
    "                   emit(z, 1);\n",
    "                 });\n",
    "               }\n",
    "               \"\"\")"
   ]
  },
  {
   "cell_type": "code",
   "execution_count": 24,
   "metadata": {
    "collapsed": true
   },
   "outputs": [],
   "source": [
    "reducer = Code(\"\"\"\n",
    "                function (key, values) {\n",
    "                  var total = 0;\n",
    "                  for (var i = 0; i < values.length; i++) {\n",
    "                    total += values[i];\n",
    "                  }\n",
    "                  return total;\n",
    "                }\n",
    "                \"\"\")"
   ]
  },
  {
   "cell_type": "code",
   "execution_count": 25,
   "metadata": {
    "collapsed": false,
    "scrolled": true
   },
   "outputs": [
    {
     "name": "stdout",
     "output_type": "stream",
     "text": [
      "{u'_id': u'', u'value': 2307.0}\n",
      "{u'_id': u'She', u'value': 126.0}\n",
      "{u'_id': u'also', u'value': 126.0}\n",
      "{u'_id': u'recorded', u'value': 116.0}\n",
      "{u'_id': u'accused', u'value': 104.0}\n",
      "{u'_id': u'details.', u'value': 86.0}\n",
      "{u'_id': u'I', u'value': 85.0}\n",
      "{u'_id': u'details', u'value': 76.0}\n",
      "{u'_id': u'Her', u'value': 72.0}\n",
      "{u'_id': u'indweller', u'value': 71.0}\n",
      "{u'_id': u'parish', u'value': 68.0}\n",
      "{u'_id': u'Recorded', u'value': 62.0}\n",
      "{u'_id': u'husband', u'value': 60.0}\n",
      "{u'_id': u'presbytery', u'value': 59.0}\n",
      "{u'_id': u'years', u'value': 59.0}\n",
      "{u'_id': u'Husband', u'value': 58.0}\n",
      "{u'_id': u'No', u'value': 55.0}\n",
      "{u'_id': u'The', u'value': 54.0}\n",
      "{u'_id': u'may', u'value': 54.0}\n",
      "{u'_id': u'name', u'value': 52.0}\n",
      "{u'_id': u'described', u'value': 50.0}\n",
      "{u'_id': u'accused.', u'value': 45.0}\n",
      "{u'_id': u'modernise', u'value': 43.0}\n",
      "{u'_id': u'He', u'value': 41.0}\n",
      "{u'_id': u'person', u'value': 41.0}\n",
      "{u'_id': u'think', u'value': 41.0}\n",
      "{u'_id': u'Unable', u'value': 38.0}\n",
      "{u'_id': u'witchcraft.', u'value': 38.0}\n",
      "{u'_id': u'Also', u'value': 37.0}\n",
      "{u'_id': u'daughter', u'value': 36.0}\n",
      "{u'_id': u'Described', u'value': 34.0}\n",
      "{u'_id': u'probably', u'value': 33.0}\n",
      "{u'_id': u'last', u'value': 31.0}\n"
     ]
    }
   ],
   "source": [
    "result = dbCnxSWP.WDB_Accused.map_reduce(mapper, reducer, \"myresults\")\n",
    "\n",
    "min_value = 32\n",
    "\n",
    "stopwords_data_path = '/home/learner/notebooks/data/stop_words_english.txt'\n",
    "stopwords_csvFile = open(stopwords_data_path, \"r\")\n",
    "\n",
    "stopwords_list = stopwords_csvFile.read().splitlines()\n",
    "#print stopwords_list \n",
    "\n",
    "for doc in result.find({ \"_id\" : { \"$nin\" : stopwords_list }}).sort(\"value\",-1):\n",
    "    print (doc)\n",
    "    if doc[\"value\"] < min_value:\n",
    "        break\n",
    "\n",
    "stopwords_csvFile.close()"
   ]
  },
  {
   "cell_type": "markdown",
   "metadata": {},
   "source": [
    "#### Destacamos los términos más llamativos.\n",
    "{u'_id': u'indweller', u'value': 71.0} (Posesión)  \n",
    "{u'_id': u'parish', u'value': 68.0} (Parroquia)  \n",
    "{u'_id': u'Recorded', u'value': 62.0} (Registrado)  \n",
    "{u'_id': u'husband', u'value': 60.0} (Marido)  \n",
    "{u'_id': u'presbytery', u'value': 59.0}(Distrito eclesiastico)  \n",
    "{u'_id': u'probably', u'value': 33.0}(Probablemente)  \n",
    "{u'_id': u'wife', u'value': 31.0} (Mujer)  \n",
    "{u'_id': u'witch', u'value': 31.0} (Bruja)  \n",
    "{u'_id': u'mentioned', u'value': 20.0} (Referido)  \n",
    "{u'_id': u'Possibly', u'value': 19.0} (Posiblemente)\n"
   ]
  },
  {
   "cell_type": "markdown",
   "metadata": {},
   "source": [
    "## Edades más comunes"
   ]
  },
  {
   "cell_type": "code",
   "execution_count": 26,
   "metadata": {
    "collapsed": false
   },
   "outputs": [
    {
     "name": "stdout",
     "output_type": "stream",
     "text": [
      " - 3053\n",
      "50 - 36\n",
      "45 - 12\n",
      "55 - 7\n",
      "25 - 7\n",
      "60 - 6\n",
      "39 - 6\n",
      "43 - 5\n",
      "41 - 5\n",
      "30 - 5\n"
     ]
    }
   ],
   "source": [
    "cursor = dbCnxSWP.WDB_Accused.aggregate([\n",
    "        {\"$group\": {\"_id\": \"$Age\", \"count\": {\"$sum\": 1}}},\n",
    "        {\"$sort\" : {\"count\" : -1}},\n",
    "        {\"$limit\" : 10}\n",
    "    ])\n",
    "\n",
    "for row in cursor:\n",
    "    print row[\"_id\"],\"-\", row[\"count\"]"
   ]
  },
  {
   "cell_type": "markdown",
   "metadata": {},
   "source": [
    "### Preparamos fichero WDB_Case para la carga"
   ]
  },
  {
   "cell_type": "code",
   "execution_count": 27,
   "metadata": {
    "collapsed": false
   },
   "outputs": [],
   "source": [
    "!cat /home/learner/notebooks/data/WDB_Case.txt      \\\n",
    "    | perl -pe 's/^(\\r\\n)//g'                          \\\n",
    "    | perl -pe 's/([^:]..)\\r\\n/\\1\\\\r\\\\n/g'             \\\n",
    "    | sed -e ':a;s/^\\(\\(\"[^\"]*\"\\|[^\",]*\\)*\\),/\\1|/;ta' \\\n",
    "    | sed 's/\"//g'                                   \\\n",
    "    > /home/learner/notebooks/data/WDB_Case_loadMongoDB.txt"
   ]
  },
  {
   "cell_type": "code",
   "execution_count": 28,
   "metadata": {
    "collapsed": false
   },
   "outputs": [
    {
     "name": "stdout",
     "output_type": "stream",
     "text": [
      "C/EGD/10|10|EGD|0||2/8/1649|2/8/1649 00:00:00|2/8/1649|2/8/1649 00:00:00||3 unnamed witches|commission for execution|||||3|0|0|0|0|0|0|0|0|0|0|0|0|0|0|0|0|0|0|0|0|0|0|0|0|0|0|0|0|0|0||1|1|0|0||0||0||0|0|0|0|0|0|0||||0|0|0|0|0|0|0|0|0|0||0|0|0|0|0|0|0|0|0|0|0|0|0|0|0|0|0||0|0|||0|0|0|0|0||certain persons from Haymouth.|SMD|15/5/2001 17:00:16|jhm|30/7/2002 15:32:43\n",
      "C/EGD/100|100|EGD|-1|A/EGD/89|27/1/1591|27/1/1591 00:00:00|8/5/1591|8/5/1591 00:00:00||Kerington,Cristine|||||||0|0|0|0|0|0|0|0|0|0|0|0|0|0|0|0|0|1|0|0|0|0|0|0|0|0|0|0|0|0||1|1|0|0|Part of the North Berwick witch hunt.  It involved many people and many accustions about witches meetings, specifically two separate attempts to sink the royal ships.  The first to sink Queen Anne on her way home, second to trouble King James after he went to get her in Denmark.|0|Said by others to have met the devil as a 'mekle black man'|0||0|0|0|0|0|0|0|||See Agnes Sampson's case for description of North Berwick meeting (c/egd/63).  See also Napier (c/egd/103) for more details about the North Berwick meeting. Meeting said to have taken place at the kirk at North Berwick, and a trump was played as a musical instrument.|0|0|0|0|0|0|0|0|0|0|In other accused's confession it was said that they had used corpse and corpse powder, and had met at halloween.|0|0|0|0|0|0|0|0|0|0|0|0|0|0|0|0|0||0|0|||0|0|0|0|0|||SMD|15/5/2001 17:00:16|jhm|10/10/2002 14:51:54\n",
      "C/EGD/1000|1000|EGD|-1|A/EGD/989|6/5/1627|6/5/1627 00:00:00|6/5/1627|6/5/1627 00:00:00||Craig,Christiane|||||||0|0|0|0|0|0|0|0|0|0|0|0|0|0|0|0|0|0|0|0|0|0|0|0|0|0|0|0|0|0||1|1|0|0||0||0||0|0|0|0|0|0|0||||0|0|0|0|0|0|0|0|0|0||0|0|0|0|0|0|0|0|0|0|0|0|0|0|0|0|0||0|0|||0|0|0|0|0|||SMD|15/5/2001 17:00:16|jhm|9/10/2002 15:52:09\n",
      "\n",
      "Registros para cargar: 3413\n",
      "\n"
     ]
    }
   ],
   "source": [
    "!head -3 /home/learner/notebooks/data/WDB_Case_loadMongoDB.txt\n",
    "print \"\\nRegistros para cargar: \", \n",
    "!wc -l /home/learner/notebooks/data/WDB_Case_loadMongoDB.txt | cut -f1 -d \" \""
   ]
  },
  {
   "cell_type": "code",
   "execution_count": 29,
   "metadata": {
    "collapsed": false
   },
   "outputs": [
    {
     "name": "stdout",
     "output_type": "stream",
     "text": [
      "AccusedRef:   \n",
      "WDB_Case_csvLine: C/EGD/10|10|EGD|0||2/8/1649|2/8/1649 00:00:00|2/8/1649|2/8/1649 00:00:00||3 unnamed witches|commission for execution|||||3|0|0|0|0|0|0|0|0|0|0|0|0|0|0|0|0|0|0|0|0|0|0|0|0|0|0|0|0|0|0||1|1|0|0||0||0||0|0|0|0|0|0|0||||0|0|0|0|0|0|0|0|0|0||0|0|0|0|0|0|0|0|0|0|0|0|0|0|0|0|0||0|0|||0|0|0|0|0||certain persons from Haymouth.|SMD|15/5/2001 17:00:16|jhm|30/7/2002 15:32:43\r\n",
      "\n",
      "\n",
      "30/7/2002 15:32:43\r\n",
      "\n",
      "AccusedRef:  A/EGD/89 \n",
      "WDB_Case_csvLine: C/EGD/100|100|EGD|-1|A/EGD/89|27/1/1591|27/1/1591 00:00:00|8/5/1591|8/5/1591 00:00:00||Kerington,Cristine|||||||0|0|0|0|0|0|0|0|0|0|0|0|0|0|0|0|0|1|0|0|0|0|0|0|0|0|0|0|0|0||1|1|0|0|Part of the North Berwick witch hunt.  It involved many people and many accustions about witches meetings, specifically two separate attempts to sink the royal ships.  The first to sink Queen Anne on her way home, second to trouble King James after he went to get her in Denmark.|0|Said by others to have met the devil as a 'mekle black man'|0||0|0|0|0|0|0|0|||See Agnes Sampson's case for description of North Berwick meeting (c/egd/63).  See also Napier (c/egd/103) for more details about the North Berwick meeting. Meeting said to have taken place at the kirk at North Berwick, and a trump was played as a musical instrument.|0|0|0|0|0|0|0|0|0|0|In other accused's confession it was said that they had used corpse and corpse powder, and had met at halloween.|0|0|0|0|0|0|0|0|0|0|0|0|0|0|0|0|0||0|0|||0|0|0|0|0|||SMD|15/5/2001 17:00:16|jhm|10/10/2002 14:51:54\r\n",
      "\n",
      "\n",
      "10/10/2002 14:51:54\r\n",
      "\n",
      "AccusedRef:  A/EGD/989 \n",
      "WDB_Case_csvLine: C/EGD/1000|1000|EGD|-1|A/EGD/989|6/5/1627|6/5/1627 00:00:00|6/5/1627|6/5/1627 00:00:00||Craig,Christiane|||||||0|0|0|0|0|0|0|0|0|0|0|0|0|0|0|0|0|0|0|0|0|0|0|0|0|0|0|0|0|0||1|1|0|0||0||0||0|0|0|0|0|0|0||||0|0|0|0|0|0|0|0|0|0||0|0|0|0|0|0|0|0|0|0|0|0|0|0|0|0|0||0|0|||0|0|0|0|0|||SMD|15/5/2001 17:00:16|jhm|9/10/2002 15:52:09\r\n",
      "\n",
      "\n",
      "9/10/2002 15:52:09\r\n",
      "\n",
      "AccusedRef:  A/EGD/990 \n",
      "WDB_Case_csvLine: C/EGD/1001|1001|EGD|-1|A/EGD/990|||25/4/1627|25/4/1627 00:00:00||Ronaldson,Margaret|||||||0|0|0|0|0|0|0|0|0|0|0|0|0|0|0|0|0|0|0|0|0|0|0|0|0|0|0|0|0|0||1|1|0|0||0||0||0|0|0|0|0|0|0||||0|0|0|0|0|0|0|0|0|0||0|0|0|0|0|0|0|0|0|0|0|0|0|0|0|0|0||0|0|||0|0|0|0|0|||SMD|15/5/2001 17:00:16|jhm|18/9/2002 15:23:08\r\n",
      "\n",
      "\n",
      "18/9/2002 15:23:08\r\n",
      "\n",
      "AccusedRef:  A/EGD/991 \n",
      "WDB_Case_csvLine: C/EGD/1002|1002|EGD|-1|A/EGD/991|||3/5/1627|3/5/1627 00:00:00||Broun,Bessie|||||||0|0|0|0|0|0|0|0|0|0|0|0|0|0|0|0|0|0|0|0|0|0|0|0|0|0|0|0|0|0||1|1|0|0||0||0||0|0|0|0|0|0|0||||0|0|0|0|0|0|0|0|0|0||0|0|0|0|0|0|0|0|0|0|0|0|0|0|0|0|0||0|0|||0|0|0|0|0|||SMD|15/5/2001 17:00:16|jhm|13/11/2002 13:59:41\r\n",
      "\n",
      "\n",
      "13/11/2002 13:59:41\r\n",
      "\n",
      "AccusedRef:  A/EGD/992 \n",
      "WDB_Case_csvLine: C/EGD/1003|1003|EGD|-1|A/EGD/992|||17/5/1627|17/5/1627 00:00:00||Hendersoune,Margaret|||||||0|0|0|0|0|1|0|0|0|0|0|0|0|0|0|0|0|1|0|0|0|0|0|0|0|0|0|0|0|0||1|1|0|0||0|Conversing with the Devil|0||0|0|0|0|0|0|0||||0|0|0|0|0|0|0|0|0|0||0|0|0|0|0|0|0|0|0|0|0|0|0|0|0|0|0||0|0|||0|0|0|0|0|||SMD|15/5/2001 17:00:16|jhm|1/10/2002 10:13:17\r\n",
      "\n",
      "\n",
      "1/10/2002 10:13:17\r\n",
      "\n"
     ]
    }
   ],
   "source": [
    "# Ensayo de lectura del fichero identificando la clave que nos servirá\n",
    "# para localizar el documento donde tenemos que incluir cada registro\n",
    "\n",
    "WDB_Case_data_path = '/home/learner/notebooks/data/WDB_Case_loadMongoDB.txt'\n",
    "WDB_Case_csvFile = open(WDB_Case_data_path, \"r\")\n",
    "\n",
    "iMax = 5\n",
    "i = 0\n",
    "for WDB_Case_csvLine in WDB_Case_csvFile:\n",
    "    print \"AccusedRef: \", WDB_Case_csvLine.split(\"|\")[4],\"\\nWDB_Case_csvLine:\", WDB_Case_csvLine, \"\\n\"\n",
    "    print WDB_Case_csvLine.split(\"|\")[110]\n",
    "    i = i + 1\n",
    "    if i > iMax:\n",
    "        break\n",
    "WDB_Case_csvFile.close()"
   ]
  },
  {
   "cell_type": "code",
   "execution_count": 30,
   "metadata": {
    "collapsed": false
   },
   "outputs": [
    {
     "name": "stdout",
     "output_type": "stream",
     "text": [
      "3413 Modificados: 3212  No modificados: 201\n"
     ]
    }
   ],
   "source": [
    "from pymongo import InsertOne, DeleteOne, ReplaceOne, UpdateOne\n",
    "\n",
    "iMax = 3500 # > 3413 para cargar todos los registros\n",
    "i = 0\n",
    "nmods = 0\n",
    "nnomods = 0\n",
    "\n",
    "WDB_Case_data_path = '/home/learner/notebooks/data/WDB_Case_loadMongoDB.txt'\n",
    "WDB_Case_csvFile = open(WDB_Case_data_path, \"r\")\n",
    "\n",
    "for WDB_Case_csvLine in WDB_Case_csvFile:\n",
    "\n",
    "    if i > iMax:\n",
    "        break\n",
    "\n",
    "    i = i + 1 \n",
    "\n",
    "       \n",
    "    result = dbCnxSWP.WDB_Accused.update_one(\n",
    "        { \"_id\": WDB_Case_csvLine.split(\"|\")[4]},\n",
    "        { '$push': { \"Case\" : {         \"CaseRef\"\t\t: WDB_Case_csvLine.split(\"|\")[0],\n",
    "                                        \"CaseId\"\t\t: WDB_Case_csvLine.split(\"|\")[1],\n",
    "                                        \"CaseSystemId\"\t\t: WDB_Case_csvLine.split(\"|\")[2],\n",
    "                                        \"NamedIndividual\"\t: WDB_Case_csvLine.split(\"|\")[3],\n",
    "                                        \"AccusedRef\"\t\t: WDB_Case_csvLine.split(\"|\")[4],\n",
    "                                        \"CaseStart_date\"\t: WDB_Case_csvLine.split(\"|\")[5],\n",
    "                                        \"CaseStart_date_as_date\"\t: WDB_Case_csvLine.split(\"|\")[6],\n",
    "                                        \"Case_date\"\t\t\t\t\t: WDB_Case_csvLine.split(\"|\")[7],\n",
    "                                        \"Case_date_as_date\"\t\t: WDB_Case_csvLine.split(\"|\")[8],\n",
    "                                        \"Age_at_case\"\t\t\t: WDB_Case_csvLine.split(\"|\")[9],\n",
    "                                        \"CaseCommonName\"\t: WDB_Case_csvLine.split(\"|\")[10],\n",
    "                                        \"Commission\"\t\t: WDB_Case_csvLine.split(\"|\")[11],\n",
    "                                        \"Complaint\"\t\t\t: WDB_Case_csvLine.split(\"|\")[12],\n",
    "                                        \"Correspondence\"\t: WDB_Case_csvLine.split(\"|\")[13],\n",
    "                                        \"Chronicle\"\t\t\t: WDB_Case_csvLine.split(\"|\")[14],\n",
    "                                        \"Other\"\t\t\t\t: WDB_Case_csvLine.split(\"|\")[15],\n",
    "                                        \"Suspects_text\"\t\t\t: WDB_Case_csvLine.split(\"|\")[16],\n",
    "                                        \"UNorthodoxRelPract_p\"\t: WDB_Case_csvLine.split(\"|\")[17],\n",
    "                                        \"UNorthodoxRelPract_s\"\t: WDB_Case_csvLine.split(\"|\")[18],\n",
    "                                        \"Consulting_p\"\t\t\t: WDB_Case_csvLine.split(\"|\")[19],\n",
    "                                        \"Consulting_s\"\t\t\t: WDB_Case_csvLine.split(\"|\")[20],\n",
    "                                        \"Demonic_p\"\t\t\t: WDB_Case_csvLine.split(\"|\")[21],\n",
    "                                        \"Demonic_s\"\t\t\t: WDB_Case_csvLine.split(\"|\")[22],\n",
    "                                        \"Demonic_possess_p\"\t: WDB_Case_csvLine.split(\"|\")[23],\n",
    "                                        \"Demonic_possess_s\"\t: WDB_Case_csvLine.split(\"|\")[24],\n",
    "                                        \"Fairies_p\"\t\t\t: WDB_Case_csvLine.split(\"|\")[25],\n",
    "                                        \"Fairies_s\"\t\t\t: WDB_Case_csvLine.split(\"|\")[26],\n",
    "                                        \"Folk_healing_p\"\t: WDB_Case_csvLine.split(\"|\")[27],\n",
    "                                        \"Folk_healing_s\"\t: WDB_Case_csvLine.split(\"|\")[28],\n",
    "                                        \"Maleficium_p\"\t\t: WDB_Case_csvLine.split(\"|\")[29],\n",
    "                                        \"Maleficium_s\"\t: WDB_Case_csvLine.split(\"|\")[30],\n",
    "                                        \"Midwifery_p\"\t: WDB_Case_csvLine.split(\"|\")[31],\n",
    "                                        \"Midwifery_s\"\t\t\t: WDB_Case_csvLine.split(\"|\")[32],\n",
    "                                        \"ImplicatedByAnother_p\"\t: WDB_Case_csvLine.split(\"|\")[33],\n",
    "                                        \"ImplicatedByAnother_s\"\t: WDB_Case_csvLine.split(\"|\")[34],\n",
    "                                        \"Neighbhd_dispute_p\"\t: WDB_Case_csvLine.split(\"|\")[35],\n",
    "                                        \"Neighbhd_dispute_s\"\t: WDB_Case_csvLine.split(\"|\")[36],\n",
    "                                        \"PoliticalMotive_p\"\t\t: WDB_Case_csvLine.split(\"|\")[37],\n",
    "                                        \"PoliticalMotive_s\"\t: WDB_Case_csvLine.split(\"|\")[38],\n",
    "                                        \"PropertyMotive_p\"\t: WDB_Case_csvLine.split(\"|\")[39],\n",
    "                                        \"PropertyMotive_s\"\t: WDB_Case_csvLine.split(\"|\")[40],\n",
    "                                        \"RefusedCharity_p\"\t: WDB_Case_csvLine.split(\"|\")[41],\n",
    "                                        \"RefusedCharity_s\"\t: WDB_Case_csvLine.split(\"|\")[42],\n",
    "                                        \"Treason_p\"\t\t\t: WDB_Case_csvLine.split(\"|\")[43],\n",
    "                                        \"Treason_s\"\t\t\t: WDB_Case_csvLine.split(\"|\")[44],\n",
    "                                        \"Other_p\"\t\t\t: WDB_Case_csvLine.split(\"|\")[45],\n",
    "                                        \"Other_s\"\t\t\t: WDB_Case_csvLine.split(\"|\")[46],\n",
    "                                        \"OtherText\" \t\t: WDB_Case_csvLine.split(\"|\")[47],\n",
    "                                        \"NotEnoughInfo_p\"\t: WDB_Case_csvLine.split(\"|\")[48],\n",
    "                                        \"NotEnoughInfo_s\"\t: WDB_Case_csvLine.split(\"|\")[49],\n",
    "                                        \"WhiteMagic_p\"\t\t: WDB_Case_csvLine.split(\"|\")[50],\n",
    "                                        \"WhiteMagic_s\"\t: WDB_Case_csvLine.split(\"|\")[51],\n",
    "                                        \"Charnotes\"\t\t: WDB_Case_csvLine.split(\"|\")[52],\n",
    "                                        \"DemonicPact\"\t: WDB_Case_csvLine.split(\"|\")[53],\n",
    "                                        \"DevilNotes\"\t\t: WDB_Case_csvLine.split(\"|\")[54],\n",
    "                                        \"WitchesMeeting\"\t: WDB_Case_csvLine.split(\"|\")[55],\n",
    "                                        \"MeetingName\"\t\t: WDB_Case_csvLine.split(\"|\")[56],\n",
    "                                        \"DevilPresent\"\t\t: WDB_Case_csvLine.split(\"|\")[57],\n",
    "                                        \"Maleficium\"\t: WDB_Case_csvLine.split(\"|\")[58],\n",
    "                                        \"CommunalSex\"\t: WDB_Case_csvLine.split(\"|\")[59],\n",
    "                                        \"DevilWorship\"\t: WDB_Case_csvLine.split(\"|\")[60],\n",
    "                                        \"FoodAndDrink\"\t: WDB_Case_csvLine.split(\"|\")[61],\n",
    "                                        \"Dancing\"\t\t: WDB_Case_csvLine.split(\"|\")[62],\n",
    "                                        \"Singing\"\t\t: WDB_Case_csvLine.split(\"|\")[63],\n",
    "                                        \"SingingText\" \t\t: WDB_Case_csvLine.split(\"|\")[64],\n",
    "                                        \"OtherPractices\" \t: WDB_Case_csvLine.split(\"|\")[65],\n",
    "                                        \"MeetingNotes\"\t\t: WDB_Case_csvLine.split(\"|\")[66],\n",
    "                                        \"Elphane/Fairyland\"\t: WDB_Case_csvLine.split(\"|\")[67],\n",
    "                                        \"Food/Drink\"\t\t\t\t: WDB_Case_csvLine.split(\"|\")[68],\n",
    "                                        \"SpecificVerbalFormulae\"\t: WDB_Case_csvLine.split(\"|\")[69],\n",
    "                                        \"SpecificRitualActs\"\t\t: WDB_Case_csvLine.split(\"|\")[70],\n",
    "                                        \"Familiars\"\t\t\t\t\t: WDB_Case_csvLine.split(\"|\")[71],\n",
    "                                        \"Shape-Changing\"\t\t\t: WDB_Case_csvLine.split(\"|\")[72],\n",
    "                                        \"Dreams/Visions\"\t\t\t\t: WDB_Case_csvLine.split(\"|\")[73],\n",
    "                                        \"UnorthodoxReligiousPractice\"\t: WDB_Case_csvLine.split(\"|\")[74],\n",
    "                                        \"SympatheticMagic\"\t\t\t\t: WDB_Case_csvLine.split(\"|\")[75],\n",
    "                                        \"Ridingdead\"\t\t: WDB_Case_csvLine.split(\"|\")[76],\n",
    "                                        \"FolkNotes\"\t\t\t: WDB_Case_csvLine.split(\"|\")[77],\n",
    "                                        \"HumanIllness\"\t\t: WDB_Case_csvLine.split(\"|\")[78],\n",
    "                                        \"HumanDeath\"\t\t: WDB_Case_csvLine.split(\"|\")[79],\n",
    "                                        \"AnimalIllness\"\t\t: WDB_Case_csvLine.split(\"|\")[80],\n",
    "                                        \"AnimalDeath\"\t\t: WDB_Case_csvLine.split(\"|\")[81],\n",
    "                                        \"FemaleInfertility\"\t: WDB_Case_csvLine.split(\"|\")[82],\n",
    "                                        \"MaleImpotence\"\t\t: WDB_Case_csvLine.split(\"|\")[83],\n",
    "                                        \"AggravatingDisease\"\t: WDB_Case_csvLine.split(\"|\")[84],\n",
    "                                        \"TransferringDisease\"\t: WDB_Case_csvLine.split(\"|\")[85],\n",
    "                                        \"LayingOn\"\t\t\t\t: WDB_Case_csvLine.split(\"|\")[86],\n",
    "                                        \"Removalbewitchment\"\t: WDB_Case_csvLine.split(\"|\")[87],\n",
    "                                        \"Quarreling\"\t\t: WDB_Case_csvLine.split(\"|\")[88],\n",
    "                                        \"Cursing\"\t\t\t: WDB_Case_csvLine.split(\"|\")[89],\n",
    "                                        \"Poisoning\"\t\t\t: WDB_Case_csvLine.split(\"|\")[90],\n",
    "                                        \"RecHealer\"\t\t\t: WDB_Case_csvLine.split(\"|\")[91],\n",
    "                                        \"HealingHumans\"\t\t: WDB_Case_csvLine.split(\"|\")[92],\n",
    "                                        \"HealingAnimals\"\t: WDB_Case_csvLine.split(\"|\")[93],\n",
    "                                        \"Midwifery\"\t\t\t: WDB_Case_csvLine.split(\"|\")[94],\n",
    "                                        \"DiseaseNotes\" \t\t: WDB_Case_csvLine.split(\"|\")[95],\n",
    "                                        \"PropertyDamage\"\t\t: WDB_Case_csvLine.split(\"|\")[96],\n",
    "                                        \"WeatherModification\"\t: WDB_Case_csvLine.split(\"|\")[97],\n",
    "                                        \"OtherMaleficiaNotes\" \t: WDB_Case_csvLine.split(\"|\")[98],\n",
    "                                        \"OtherChargesNotes\" \t: WDB_Case_csvLine.split(\"|\")[99],\n",
    "                                        \"ClaimedBewitched\"\t\t: WDB_Case_csvLine.split(\"|\")[100],\n",
    "                                        \"ClaimedPossessed\"\t\t: WDB_Case_csvLine.split(\"|\")[101],\n",
    "                                        \"AdmitLesserCharge\"\t\t: WDB_Case_csvLine.split(\"|\")[102],\n",
    "                                        \"ClaimedNaturalCauses\"\t: WDB_Case_csvLine.split(\"|\")[103],\n",
    "                                        \"Nodefence\"\t\t\t\t: WDB_Case_csvLine.split(\"|\")[104],\n",
    "                                        \"DefenseNotes\" \t\t\t: WDB_Case_csvLine.split(\"|\")[105],\n",
    "                                        \"CaseNotes\"\t\t: WDB_Case_csvLine.split(\"|\")[106],\n",
    "                                        \"Createdby\"\t\t: WDB_Case_csvLine.split(\"|\")[107],\n",
    "                                        \"Createdate\"\t: WDB_Case_csvLine.split(\"|\")[108],\n",
    "                                        \"Lastupdatedby\"\t: WDB_Case_csvLine.split(\"|\")[109],\n",
    "                                        \"Lastupdatedon\"\t: WDB_Case_csvLine.split(\"|\")[110]\n",
    "                                        }\n",
    "                } \n",
    "        }\n",
    "        );\n",
    "\n",
    "    if result.modified_count == 1:\n",
    "        nmods = nmods + 1\n",
    "    else:\n",
    "        nnomods = nnomods + 1\n",
    "    \n",
    "    print \"\\r\", i, \"Modificados:\", nmods, \" No modificados:\", nnomods,\n",
    "    \n",
    "\n",
    "WDB_Case_csvFile.close()"
   ]
  },
  {
   "cell_type": "markdown",
   "metadata": {},
   "source": [
    "#### Hemos verificado con los datos de origen que hay 201 casos que no hacen referencia a ningún acusado. Esto causa que no se puedan cargar como subdocumentos al no encontrar el documento principal y que tenga sentido crear una colección independiente."
   ]
  },
  {
   "cell_type": "code",
   "execution_count": 31,
   "metadata": {
    "collapsed": false
   },
   "outputs": [
    {
     "name": "stdout",
     "output_type": "stream",
     "text": [
      "0\n",
      "result.inserted_id: C/LA/3406 3414\n"
     ]
    }
   ],
   "source": [
    "from pymongo import InsertOne, DeleteOne, ReplaceOne\n",
    "\n",
    "# Eliminamos antes resultados de cargas anteriores\n",
    "result = dbCnxSWP.WDB_Case.delete_many({})\n",
    "print result.deleted_count\n",
    "\n",
    "WDB_Case_csvFile = open(WDB_Case_data_path, \"r\")\n",
    "\n",
    "iMax = 4096 # > 3413 -> cargará todos los registros\n",
    "i = 1\n",
    "\n",
    "for WDB_Case_csvLine in WDB_Case_csvFile:\n",
    "\n",
    "    if i > iMax:\n",
    "        break\n",
    "\n",
    "    i = i + 1 \n",
    "\n",
    "    result = dbCnxSWP.WDB_Case.insert_one(\n",
    "            {\n",
    "                \t\t\t\t\t\t\"_id\"       \t: WDB_Case_csvLine.split(\"|\")[0],\n",
    "                \t\t\t\t\t\t\"CaseRef\"\t\t: WDB_Case_csvLine.split(\"|\")[0],\n",
    "                                        \"CaseId\"\t\t: WDB_Case_csvLine.split(\"|\")[1],\n",
    "                                        \"CaseSystemId\"\t\t: WDB_Case_csvLine.split(\"|\")[2],\n",
    "                                        \"NamedIndividual\"\t: WDB_Case_csvLine.split(\"|\")[3],\n",
    "                                        \"AccusedRef\"\t\t: WDB_Case_csvLine.split(\"|\")[4],\n",
    "                                        \"CaseStart_date\"\t: WDB_Case_csvLine.split(\"|\")[5],\n",
    "                                        \"CaseStart_date_as_date\"\t: WDB_Case_csvLine.split(\"|\")[6],\n",
    "                                        \"Case_date\"\t\t\t\t\t: WDB_Case_csvLine.split(\"|\")[7],\n",
    "                                        \"Case_date_as_date\"\t\t: WDB_Case_csvLine.split(\"|\")[8],\n",
    "                                        \"Age_at_case\"\t\t\t: WDB_Case_csvLine.split(\"|\")[9],\n",
    "                                        \"CaseCommonName\"\t: WDB_Case_csvLine.split(\"|\")[10],\n",
    "                                        \"Commission\"\t\t: WDB_Case_csvLine.split(\"|\")[11],\n",
    "                                        \"Complaint\"\t\t\t: WDB_Case_csvLine.split(\"|\")[12],\n",
    "                                        \"Correspondence\"\t: WDB_Case_csvLine.split(\"|\")[13],\n",
    "                                        \"Chronicle\"\t\t\t: WDB_Case_csvLine.split(\"|\")[14],\n",
    "                                        \"Other\"\t\t\t\t: WDB_Case_csvLine.split(\"|\")[15],\n",
    "                                        \"Suspects_text\"\t\t\t: WDB_Case_csvLine.split(\"|\")[16],\n",
    "                                        \"UNorthodoxRelPract_p\"\t: WDB_Case_csvLine.split(\"|\")[17],\n",
    "                                        \"UNorthodoxRelPract_s\"\t: WDB_Case_csvLine.split(\"|\")[18],\n",
    "                                        \"Consulting_p\"\t\t\t: WDB_Case_csvLine.split(\"|\")[19],\n",
    "                                        \"Consulting_s\"\t\t\t: WDB_Case_csvLine.split(\"|\")[20],\n",
    "                                        \"Demonic_p\"\t\t\t: WDB_Case_csvLine.split(\"|\")[21],\n",
    "                                        \"Demonic_s\"\t\t\t: WDB_Case_csvLine.split(\"|\")[22],\n",
    "                                        \"Demonic_possess_p\"\t: WDB_Case_csvLine.split(\"|\")[23],\n",
    "                                        \"Demonic_possess_s\"\t: WDB_Case_csvLine.split(\"|\")[24],\n",
    "                                        \"Fairies_p\"\t\t\t: WDB_Case_csvLine.split(\"|\")[25],\n",
    "                                        \"Fairies_s\"\t\t\t: WDB_Case_csvLine.split(\"|\")[26],\n",
    "                                        \"Folk_healing_p\"\t: WDB_Case_csvLine.split(\"|\")[27],\n",
    "                                        \"Folk_healing_s\"\t: WDB_Case_csvLine.split(\"|\")[28],\n",
    "                                        \"Maleficium_p\"\t\t: WDB_Case_csvLine.split(\"|\")[29],\n",
    "                                        \"Maleficium_s\"\t: WDB_Case_csvLine.split(\"|\")[30],\n",
    "                                        \"Midwifery_p\"\t: WDB_Case_csvLine.split(\"|\")[31],\n",
    "                                        \"Midwifery_s\"\t\t\t: WDB_Case_csvLine.split(\"|\")[32],\n",
    "                                        \"ImplicatedByAnother_p\"\t: WDB_Case_csvLine.split(\"|\")[33],\n",
    "                                        \"ImplicatedByAnother_s\"\t: WDB_Case_csvLine.split(\"|\")[34],\n",
    "                                        \"Neighbhd_dispute_p\"\t: WDB_Case_csvLine.split(\"|\")[35],\n",
    "                                        \"Neighbhd_dispute_s\"\t: WDB_Case_csvLine.split(\"|\")[36],\n",
    "                                        \"PoliticalMotive_p\"\t\t: WDB_Case_csvLine.split(\"|\")[37],\n",
    "                                        \"PoliticalMotive_s\"\t: WDB_Case_csvLine.split(\"|\")[38],\n",
    "                                        \"PropertyMotive_p\"\t: WDB_Case_csvLine.split(\"|\")[39],\n",
    "                                        \"PropertyMotive_s\"\t: WDB_Case_csvLine.split(\"|\")[40],\n",
    "                                        \"RefusedCharity_p\"\t: WDB_Case_csvLine.split(\"|\")[41],\n",
    "                                        \"RefusedCharity_s\"\t: WDB_Case_csvLine.split(\"|\")[42],\n",
    "                                        \"Treason_p\"\t\t\t: WDB_Case_csvLine.split(\"|\")[43],\n",
    "                                        \"Treason_s\"\t\t\t: WDB_Case_csvLine.split(\"|\")[44],\n",
    "                                        \"Other_p\"\t\t\t: WDB_Case_csvLine.split(\"|\")[45],\n",
    "                                        \"Other_s\"\t\t\t: WDB_Case_csvLine.split(\"|\")[46],\n",
    "                                        \"OtherText\" \t\t: WDB_Case_csvLine.split(\"|\")[47],\n",
    "                                        \"NotEnoughInfo_p\"\t: WDB_Case_csvLine.split(\"|\")[48],\n",
    "                                        \"NotEnoughInfo_s\"\t: WDB_Case_csvLine.split(\"|\")[49],\n",
    "                                        \"WhiteMagic_p\"\t\t: WDB_Case_csvLine.split(\"|\")[50],\n",
    "                                        \"WhiteMagic_s\"\t: WDB_Case_csvLine.split(\"|\")[51],\n",
    "                                        \"Charnotes\"\t\t: WDB_Case_csvLine.split(\"|\")[52],\n",
    "                                        \"DemonicPact\"\t: WDB_Case_csvLine.split(\"|\")[53],\n",
    "                                        \"DevilNotes\"\t\t: WDB_Case_csvLine.split(\"|\")[54],\n",
    "                                        \"WitchesMeeting\"\t: WDB_Case_csvLine.split(\"|\")[55],\n",
    "                                        \"MeetingName\"\t\t: WDB_Case_csvLine.split(\"|\")[56],\n",
    "                                        \"DevilPresent\"\t\t: WDB_Case_csvLine.split(\"|\")[57],\n",
    "                                        \"Maleficium\"\t: WDB_Case_csvLine.split(\"|\")[58],\n",
    "                                        \"CommunalSex\"\t: WDB_Case_csvLine.split(\"|\")[59],\n",
    "                                        \"DevilWorship\"\t: WDB_Case_csvLine.split(\"|\")[60],\n",
    "                                        \"FoodAndDrink\"\t: WDB_Case_csvLine.split(\"|\")[61],\n",
    "                                        \"Dancing\"\t\t: WDB_Case_csvLine.split(\"|\")[62],\n",
    "                                        \"Singing\"\t\t: WDB_Case_csvLine.split(\"|\")[63],\n",
    "                                        \"SingingText\" \t\t: WDB_Case_csvLine.split(\"|\")[64],\n",
    "                                        \"OtherPractices\" \t: WDB_Case_csvLine.split(\"|\")[65],\n",
    "                                        \"MeetingNotes\"\t\t: WDB_Case_csvLine.split(\"|\")[66],\n",
    "                                        \"Elphane/Fairyland\"\t: WDB_Case_csvLine.split(\"|\")[67],\n",
    "                                        \"Food/Drink\"\t\t\t\t: WDB_Case_csvLine.split(\"|\")[68],\n",
    "                                        \"SpecificVerbalFormulae\"\t: WDB_Case_csvLine.split(\"|\")[69],\n",
    "                                        \"SpecificRitualActs\"\t\t: WDB_Case_csvLine.split(\"|\")[70],\n",
    "                                        \"Familiars\"\t\t\t\t\t: WDB_Case_csvLine.split(\"|\")[71],\n",
    "                                        \"Shape-Changing\"\t\t\t: WDB_Case_csvLine.split(\"|\")[72],\n",
    "                                        \"Dreams/Visions\"\t\t\t\t: WDB_Case_csvLine.split(\"|\")[73],\n",
    "                                        \"UnorthodoxReligiousPractice\"\t: WDB_Case_csvLine.split(\"|\")[74],\n",
    "                                        \"SympatheticMagic\"\t\t\t\t: WDB_Case_csvLine.split(\"|\")[75],\n",
    "                                        \"Ridingdead\"\t\t: WDB_Case_csvLine.split(\"|\")[76],\n",
    "                                        \"FolkNotes\"\t\t\t: WDB_Case_csvLine.split(\"|\")[77],\n",
    "                                        \"HumanIllness\"\t\t: WDB_Case_csvLine.split(\"|\")[78],\n",
    "                                        \"HumanDeath\"\t\t: WDB_Case_csvLine.split(\"|\")[79],\n",
    "                                        \"AnimalIllness\"\t\t: WDB_Case_csvLine.split(\"|\")[80],\n",
    "                                        \"AnimalDeath\"\t\t: WDB_Case_csvLine.split(\"|\")[81],\n",
    "                                        \"FemaleInfertility\"\t: WDB_Case_csvLine.split(\"|\")[82],\n",
    "                                        \"MaleImpotence\"\t\t: WDB_Case_csvLine.split(\"|\")[83],\n",
    "                                        \"AggravatingDisease\"\t: WDB_Case_csvLine.split(\"|\")[84],\n",
    "                                        \"TransferringDisease\"\t: WDB_Case_csvLine.split(\"|\")[85],\n",
    "                                        \"LayingOn\"\t\t\t\t: WDB_Case_csvLine.split(\"|\")[86],\n",
    "                                        \"Removalbewitchment\"\t: WDB_Case_csvLine.split(\"|\")[87],\n",
    "                                        \"Quarreling\"\t\t: WDB_Case_csvLine.split(\"|\")[88],\n",
    "                                        \"Cursing\"\t\t\t: WDB_Case_csvLine.split(\"|\")[89],\n",
    "                                        \"Poisoning\"\t\t\t: WDB_Case_csvLine.split(\"|\")[90],\n",
    "                                        \"RecHealer\"\t\t\t: WDB_Case_csvLine.split(\"|\")[91],\n",
    "                                        \"HealingHumans\"\t\t: WDB_Case_csvLine.split(\"|\")[92],\n",
    "                                        \"HealingAnimals\"\t: WDB_Case_csvLine.split(\"|\")[93],\n",
    "                                        \"Midwifery\"\t\t\t: WDB_Case_csvLine.split(\"|\")[94],\n",
    "                                        \"DiseaseNotes\" \t\t: WDB_Case_csvLine.split(\"|\")[95],\n",
    "                                        \"PropertyDamage\"\t\t: WDB_Case_csvLine.split(\"|\")[96],\n",
    "                                        \"WeatherModification\"\t: WDB_Case_csvLine.split(\"|\")[97],\n",
    "                                        \"OtherMaleficiaNotes\" \t: WDB_Case_csvLine.split(\"|\")[98],\n",
    "                                        \"OtherChargesNotes\" \t: WDB_Case_csvLine.split(\"|\")[99],\n",
    "                                        \"ClaimedBewitched\"\t\t: WDB_Case_csvLine.split(\"|\")[100],\n",
    "                                        \"ClaimedPossessed\"\t\t: WDB_Case_csvLine.split(\"|\")[101],\n",
    "                                        \"AdmitLesserCharge\"\t\t: WDB_Case_csvLine.split(\"|\")[102],\n",
    "                                        \"ClaimedNaturalCauses\"\t: WDB_Case_csvLine.split(\"|\")[103],\n",
    "                                        \"Nodefence\"\t\t\t\t: WDB_Case_csvLine.split(\"|\")[104],\n",
    "                                        \"DefenseNotes\" \t\t\t: WDB_Case_csvLine.split(\"|\")[105],\n",
    "                                        \"CaseNotes\"\t\t: WDB_Case_csvLine.split(\"|\")[106],\n",
    "                                        \"Createdby\"\t\t: WDB_Case_csvLine.split(\"|\")[107],\n",
    "                                        \"Createdate\"\t: WDB_Case_csvLine.split(\"|\")[108],\n",
    "                                        \"Lastupdatedby\"\t: WDB_Case_csvLine.split(\"|\")[109],\n",
    "                                        \"Lastupdatedon\"\t: WDB_Case_csvLine.split(\"|\")[110]\n",
    "            }\n",
    "        )\n",
    "    print \"\\rresult.inserted_id:\", result.inserted_id, i, \n",
    "    \n",
    "    \n",
    "WDB_Case_csvFile.close()\n"
   ]
  },
  {
   "cell_type": "markdown",
   "metadata": {},
   "source": [
    "### Los 10 años más \"*prolíficos*\""
   ]
  },
  {
   "cell_type": "code",
   "execution_count": 32,
   "metadata": {
    "collapsed": false
   },
   "outputs": [
    {
     "name": "stdout",
     "output_type": "stream",
     "text": [
      "407 casos en 1662.\n",
      "399 casos en 1649.\n",
      "240 casos en 1661.\n",
      "213 casos en 1650.\n",
      "183 casos en 1629.\n",
      "121 casos en 1597.\n",
      "116 casos en 1643.\n",
      "114 casos en 1630.\n",
      "86 casos en 1659.\n",
      "85 casos en 1591.\n"
     ]
    }
   ],
   "source": [
    "csr = dbCnxSWP.WDB_Case.aggregate([\n",
    "  { \"$project\" : { \"arrCase_date_as_date\" : { \"$split\" : [\"$Case_date_as_date\" , \" \"] } } },\n",
    "  { \"$project\" : { \"date\" : { \"$arrayElemAt\" : [\"$arrCase_date_as_date\" , 0] } } },\n",
    "  { \"$project\" : { \"arrDate\" : { \"$split\" : [\"$date\" , \"/\"] } } },\n",
    "  { \"$project\" : { \"year\" : { \"$arrayElemAt\" : [\"$arrDate\" , 2] } } },\n",
    "  { \"$group\" : { \"_id\" : \"$year\" , \"Casos\" : { \"$sum\" : 1 } } },\n",
    "  { \"$sort\" : { \"Casos\" : -1 } },\n",
    "  { \"$limit\" : 10}\n",
    "]);\n",
    "for item in csr:\n",
    "    print item[\"Casos\"], \"casos en\", item[\"_id\"]+ \".\""
   ]
  },
  {
   "cell_type": "markdown",
   "metadata": {},
   "source": [
    "#  \n",
    "## A continuación el diagrama de las entidades y atributos utilizados en estas consultas\n",
    "\n",
    "<img src=\"http://localhost:8001/files/SWP-ScotWitchProject/images/MongoDB.png\">"
   ]
  },
  {
   "cell_type": "markdown",
   "metadata": {
    "collapsed": true
   },
   "source": [
    "### Conclusiones:\n",
    "* Considero que MongoDB presenta ventajas en este caso para el tratamiento de información no estructurada: notas de las acusaciones, textos y campos no categorizados.\n",
    "######  \n",
    "* También permitiría un acceso más eficiente en desarrollo a la información, dado el elevado número de relaciones y datos ausentes. \n",
    "######  \n",
    "* Por supuesto,también permitiría la inclusiónde información no estructurada. En lugar de la referencia a las fuentes (documentos de bibliotecas, parroquias, universidades, etc...) se podrían incluir los documentos y realizar consultas que pudiesen derivar en nuevas relaciones.  \n",
    "######  \n",
    "* Por último, podrían añadirse herramientas de *web scraping* que permitieran ampliar la información no estructurada registrada. Podrían detectarse en búsquedas la aparición de nuevos datos sobre los casos derivados de otros proyectos de investigación que se divulgen en Internet."
   ]
  }
 ],
 "metadata": {
  "kernelspec": {
   "display_name": "Python 2",
   "language": "python",
   "name": "python2"
  },
  "language_info": {
   "codemirror_mode": {
    "name": "ipython",
    "version": 2
   },
   "file_extension": ".py",
   "mimetype": "text/x-python",
   "name": "python",
   "nbconvert_exporter": "python",
   "pygments_lexer": "ipython2",
   "version": "2.7.6"
  }
 },
 "nbformat": 4,
 "nbformat_minor": 0
}
