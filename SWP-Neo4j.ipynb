{
 "cells": [
  {
   "cell_type": "markdown",
   "metadata": {},
   "source": [
    "# Almacenando datos de WDB en Neo4j con py2neo"
   ]
  },
  {
   "cell_type": "markdown",
   "metadata": {},
   "source": [
    "![png](http://d20tdhwx2i89n1.cloudfront.net/image/upload/t_next_gen_article_large_767/btp7c4imyevfdt9icxlo.jpg)"
   ]
  },
  {
   "cell_type": "markdown",
   "metadata": {},
   "source": [
    "http://localhost:7474/"
   ]
  },
  {
   "cell_type": "markdown",
   "metadata": {},
   "source": [
    "## py2neo\n",
    "\n",
    "py2neo is one of Neo4j's Python drivers. It offers a fully-featured interface for interacting with your data in Neo4j.  \n",
    "http://py2neo.org/v3/#"
   ]
  },
  {
   "cell_type": "code",
   "execution_count": 67,
   "metadata": {
    "collapsed": false
   },
   "outputs": [
    {
     "name": "stdout",
     "output_type": "stream",
     "text": [
      "3.1.2\n"
     ]
    }
   ],
   "source": [
    "import py2neo \n",
    "print py2neo.__version__"
   ]
  },
  {
   "cell_type": "code",
   "execution_count": 68,
   "metadata": {
    "collapsed": false
   },
   "outputs": [
    {
     "name": "stdout",
     "output_type": "stream",
     "text": [
      "[sudo] password for learner: Requirement already up-to-date: py2neo in /usr/local/lib/python2.7/dist-packages\n",
      "Cleaning up...\n"
     ]
    }
   ],
   "source": [
    "!echo 'learner' | sudo -S pip install py2neo --upgrade"
   ]
  },
  {
   "cell_type": "markdown",
   "metadata": {},
   "source": [
    "## Connect\n",
    "Connect to Neo4j with the Graph class."
   ]
  },
  {
   "cell_type": "code",
   "execution_count": 69,
   "metadata": {
    "collapsed": false
   },
   "outputs": [],
   "source": [
    "from py2neo import Graph\n",
    "\n",
    "graph = Graph()"
   ]
  },
  {
   "cell_type": "markdown",
   "metadata": {},
   "source": [
    "## Nodes\n",
    "Create nodes with the Node class. The first argument is the node's label. The remaining arguments are an arbitrary amount of node properties or key-value pairs."
   ]
  },
  {
   "cell_type": "code",
   "execution_count": 70,
   "metadata": {
    "collapsed": false
   },
   "outputs": [],
   "source": [
    "#!pwd\n",
    "#!ls -lrt /home/learner/notebooks/neo4j\n",
    "#!ls -lrt /home/learner/notebooks/neo4j/scripts\n",
    "#!ls -lrt /home/learner/notebooks/SWP-ScotWitchProject\n",
    "#!ls -lrt /home/learner/notebooks/SWP-ScotWitchProject\n",
    "#!ls -lrt /home/learner/notebooks/SWP-ScotWitchProject/scripts\n",
    "#!cp -r /home/learner/notebooks/neo4j/scripts /home/learner/notebooks/SWP-ScotWitchProject/.\n",
    "\n",
    "#!cp -r /home/learner/notebooks/neo4j/figures /home/learner/notebooks/SWP-ScotWitchProject/.\n",
    "#!cp -r /home/learner/notebooks/neo4j/images /home/learner/notebooks/SWP-ScotWitchProject/.\n",
    "#!cp -r /home/learner/notebooks/neo4j/util /home/learner/notebooks/SWP-ScotWitchProject/.\n"
   ]
  },
  {
   "cell_type": "code",
   "execution_count": 71,
   "metadata": {
    "collapsed": true
   },
   "outputs": [],
   "source": [
    "from py2neo import Node"
   ]
  },
  {
   "cell_type": "markdown",
   "metadata": {},
   "source": [
    "#### Inicializamos la BBDD"
   ]
  },
  {
   "cell_type": "code",
   "execution_count": 72,
   "metadata": {
    "collapsed": false
   },
   "outputs": [],
   "source": [
    "graph.delete_all()"
   ]
  },
  {
   "cell_type": "markdown",
   "metadata": {},
   "source": [
    "#### Seleccionamos del fichero solo cuatro acusados para cargar. Con ello conseguimos:  \n",
    "1. Que los gráficos sean legibles.\n",
    "2. No sobrecargar el sistema."
   ]
  },
  {
   "cell_type": "code",
   "execution_count": 73,
   "metadata": {
    "collapsed": false
   },
   "outputs": [
    {
     "name": "stdout",
     "output_type": "stream",
     "text": [
      "  3228  23093 645767 /home/learner/notebooks/data/WDB_Accused.txt\n",
      "  4   4 137 /home/learner/notebooks/data/WDB_Accused_loadNeo4j_py2neo.txt\n",
      "\n",
      "Registros de WDB_Accused para cargar:\n",
      "A/EGD/1212|Katherine|Wilson|Katherine\n",
      "A/EGD/142|Annas|Erskine|Anne\n",
      "A/EGD/143|Issobell|Erskine|Isobel\n",
      "A/EGD/1729|Margret|Jackson|Margaret\n"
     ]
    }
   ],
   "source": [
    "!cat /home/learner/notebooks/data/WDB_Accused.txt             \\\n",
    "    | perl -pe 's/^(\\r\\n)//g'                                 \\\n",
    "    | perl -pe 's/([^:]..)\\r\\n/\\1\\[CR\\]/g'                    \\\n",
    "    | sed -e ':a;s/^\\(\\(\"[^\"]*\"\\|[^\",]*\\)*\\),/\\1|/;ta'        \\\n",
    "    | grep -E \"A/EGD/142\\\"|A/EGD/143\\\"|A/EGD/1212|A/EGD/1729\" \\\n",
    "    | cut -d \"|\" -f 1,4,5,6 | sed 's/\"//g'                      \\\n",
    "    | sed -e '/|$/d'                                          \\\n",
    "    | sed -e '/||/d'                                          \\\n",
    "    > /home/learner/notebooks/data/WDB_Accused_loadNeo4j_py2neo.txt\n",
    "\n",
    "!wc /home/learner/notebooks/data/WDB_Accused.txt\n",
    "!wc /home/learner/notebooks/data/WDB_Accused_loadNeo4j_py2neo.txt\n",
    "!echo \"\\nRegistros de WDB_Accused para cargar:\"\n",
    "!cat /home/learner/notebooks/data/WDB_Accused_loadNeo4j_py2neo.txt"
   ]
  },
  {
   "cell_type": "markdown",
   "metadata": {},
   "source": [
    "#### Creamos una restricción de unicidad para evitar cargar el mismo registro dos veces"
   ]
  },
  {
   "cell_type": "code",
   "execution_count": 74,
   "metadata": {
    "collapsed": false
   },
   "outputs": [
    {
     "name": "stdout",
     "output_type": "stream",
     "text": [
      "The cypher extension is already loaded. To reload it, use:\n",
      "  %reload_ext cypher\n"
     ]
    }
   ],
   "source": [
    "%load_ext cypher"
   ]
  },
  {
   "cell_type": "code",
   "execution_count": 75,
   "metadata": {
    "collapsed": false
   },
   "outputs": [
    {
     "name": "stdout",
     "output_type": "stream",
     "text": [
      "0 rows affected.\n"
     ]
    },
    {
     "data": {
      "text/html": [
       "<table>\n",
       "    <tr>\n",
       "    </tr>\n",
       "</table>"
      ],
      "text/plain": [
       "[]"
      ]
     },
     "execution_count": 75,
     "metadata": {},
     "output_type": "execute_result"
    }
   ],
   "source": [
    "%cypher CREATE CONSTRAINT ON (a:Accused) ASSERT a.AccusedRef IS UNIQUE"
   ]
  },
  {
   "cell_type": "markdown",
   "metadata": {},
   "source": [
    "#### Realizamos la carga, creando un nodo por cada acusado"
   ]
  },
  {
   "cell_type": "code",
   "execution_count": 76,
   "metadata": {
    "collapsed": false,
    "scrolled": true
   },
   "outputs": [
    {
     "name": "stdout",
     "output_type": "stream",
     "text": [
      "4 nodos creados.\n"
     ]
    }
   ],
   "source": [
    "WDB_Accused_dataPath = '/home/learner/notebooks/data/WDB_Accused_loadNeo4j_py2neo.txt'\n",
    "WDB_Accused_csvFile = open(WDB_Accused_dataPath, \"r\")\n",
    "n = 0\n",
    "for WDB_Accused_csvLine in WDB_Accused_csvFile:\n",
    "    try:\n",
    "        graph.create(Node(\"Accused\"\n",
    "                      , AccusedRef = WDB_Accused_csvLine.split(\"|\")[0]\n",
    "                      , FirstName = WDB_Accused_csvLine.split(\"|\")[1]\n",
    "                      , LastName = WDB_Accused_csvLine.split(\"|\")[2]\n",
    "                      , NodeLabel = WDB_Accused_csvLine.split(\"|\")[1]\n",
    "                                     + \"_\" + WDB_Accused_csvLine.split(\"|\")[2] + \"_Accused\"\n",
    "                     )\n",
    "                )\n",
    "        n = n + 1\n",
    "    except py2neo.GraphError:\n",
    "        print \"Error al crear nodo para\", WDB_Accused_csvLine.split(\"|\")[0]\n",
    "        break\n",
    "print n, \"nodos creados.\"\n",
    "\n",
    "WDB_Accused_csvFile.close()"
   ]
  },
  {
   "cell_type": "markdown",
   "metadata": {},
   "source": [
    "#### Verificamos el resultado\n",
    "#### ¿Cuantos nodos tenemos creados?"
   ]
  },
  {
   "cell_type": "code",
   "execution_count": 77,
   "metadata": {
    "collapsed": false
   },
   "outputs": [
    {
     "name": "stdout",
     "output_type": "stream",
     "text": [
      "1 rows affected.\n"
     ]
    },
    {
     "data": {
      "text/html": [
       "<table>\n",
       "    <tr>\n",
       "        <th>count(1)</th>\n",
       "    </tr>\n",
       "    <tr>\n",
       "        <td>4</td>\n",
       "    </tr>\n",
       "</table>"
      ],
      "text/plain": [
       "[[4]]"
      ]
     },
     "execution_count": 77,
     "metadata": {},
     "output_type": "execute_result"
    }
   ],
   "source": [
    "%%cypher\n",
    "MATCH (n)\n",
    "OPTIONAL MATCH (n)-[r]-()\n",
    "RETURN count(1)"
   ]
  },
  {
   "cell_type": "markdown",
   "metadata": {},
   "source": [
    "#### ¿Que contienen?"
   ]
  },
  {
   "cell_type": "code",
   "execution_count": 78,
   "metadata": {
    "collapsed": false
   },
   "outputs": [
    {
     "name": "stdout",
     "output_type": "stream",
     "text": [
      "4 rows affected.\n"
     ]
    },
    {
     "data": {
      "text/html": [
       "<table>\n",
       "    <tr>\n",
       "        <th>Acusado</th>\n",
       "    </tr>\n",
       "    <tr>\n",
       "        <td>{u'AccusedRef': u'A/EGD/1212', u'NodeLabel': u'Katherine_Wilson_Accused', u'FirstName': u'Katherine', u'LastName': u'Wilson'}</td>\n",
       "    </tr>\n",
       "    <tr>\n",
       "        <td>{u'AccusedRef': u'A/EGD/142', u'NodeLabel': u'Annas_Erskine_Accused', u'FirstName': u'Annas', u'LastName': u'Erskine'}</td>\n",
       "    </tr>\n",
       "    <tr>\n",
       "        <td>{u'AccusedRef': u'A/EGD/143', u'NodeLabel': u'Issobell_Erskine_Accused', u'FirstName': u'Issobell', u'LastName': u'Erskine'}</td>\n",
       "    </tr>\n",
       "    <tr>\n",
       "        <td>{u'AccusedRef': u'A/EGD/1729', u'NodeLabel': u'Margret_Jackson_Accused', u'FirstName': u'Margret', u'LastName': u'Jackson'}</td>\n",
       "    </tr>\n",
       "</table>"
      ],
      "text/plain": [
       "[[{u'AccusedRef': u'A/EGD/1212',\n",
       "   u'FirstName': u'Katherine',\n",
       "   u'LastName': u'Wilson',\n",
       "   u'NodeLabel': u'Katherine_Wilson_Accused'}],\n",
       " [{u'AccusedRef': u'A/EGD/142',\n",
       "   u'FirstName': u'Annas',\n",
       "   u'LastName': u'Erskine',\n",
       "   u'NodeLabel': u'Annas_Erskine_Accused'}],\n",
       " [{u'AccusedRef': u'A/EGD/143',\n",
       "   u'FirstName': u'Issobell',\n",
       "   u'LastName': u'Erskine',\n",
       "   u'NodeLabel': u'Issobell_Erskine_Accused'}],\n",
       " [{u'AccusedRef': u'A/EGD/1729',\n",
       "   u'FirstName': u'Margret',\n",
       "   u'LastName': u'Jackson',\n",
       "   u'NodeLabel': u'Margret_Jackson_Accused'}]]"
      ]
     },
     "execution_count": 78,
     "metadata": {},
     "output_type": "execute_result"
    }
   ],
   "source": [
    "%%cypher\n",
    "MATCH (Acusado:Accused)\n",
    "RETURN Acusado"
   ]
  },
  {
   "cell_type": "markdown",
   "metadata": {},
   "source": [
    "### Chequeamos la carga gráficamente"
   ]
  },
  {
   "cell_type": "code",
   "execution_count": 79,
   "metadata": {
    "collapsed": false,
    "scrolled": false
   },
   "outputs": [
    {
     "data": {
      "text/html": [
       "\n",
       "        <iframe\n",
       "            width=\"100%\"\n",
       "            height=\"400\"\n",
       "            src=\"figures/graph-e77cf0e2-7b9c-4f22-ae4a-16aa08c32404.html\"\n",
       "            frameborder=\"0\"\n",
       "            allowfullscreen\n",
       "        ></iframe>\n",
       "        "
      ],
      "text/plain": [
       "<IPython.lib.display.IFrame at 0x7f5cb0689e50>"
      ]
     },
     "execution_count": 79,
     "metadata": {},
     "output_type": "execute_result"
    }
   ],
   "source": [
    "from scripts.vis import draw\n",
    "\n",
    "options = { \"Accused\": \"NodeLabel\"\n",
    "          }\n",
    "draw(graph, options, physics=True)"
   ]
  },
  {
   "cell_type": "markdown",
   "metadata": {},
   "source": [
    "#### A continuación crearemos los nodos de sus familiares"
   ]
  },
  {
   "cell_type": "code",
   "execution_count": 80,
   "metadata": {
    "collapsed": false
   },
   "outputs": [],
   "source": [
    "!cat /home/learner/notebooks/data/WDB_Accused_family.txt \\\n",
    "    | perl -pe 's/^(\\r\\n)//g' \\\n",
    "    | perl -pe 's/([^:]..)\\r\\n/\\1\\[CR\\]/g' \\\n",
    "    | grep -E \"A/EGD/142\\\"|A/EGD/143\\\"|A/EGD/1212|A/EGD/1729\" \\\n",
    "    | sed -e ':a;s/^\\(\\(\"[^\"]*\"\\|[^\",]*\\)*\\),/\\1|/;ta' \\\n",
    "    | cut -d \"|\" -f 1,4,5,14,15,16 | sed 's/\"//g'         \\\n",
    "    | sed -e '/|$/d'                                   \\\n",
    "    | sed -e '/||/d'                                   \\\n",
    "    > /home/learner/notebooks/data/WDB_Accused_family_loadNeo4j_py2neo.txt"
   ]
  },
  {
   "cell_type": "code",
   "execution_count": 81,
   "metadata": {
    "collapsed": false
   },
   "outputs": [
    {
     "name": "stdout",
     "output_type": "stream",
     "text": [
      "Familiares a incluir y relacion con cada acusado:\n",
      "AF/JO/195|Stewart|Thomas|Husband|A/EGD/1729|jhm\n",
      "AF/JO/696|Erskine|Johnne|Nephew|A/EGD/142|jhm\n",
      "AF/JO/697|Erskine|Alexnder|Nephew|A/EGD/142|jhm\n",
      "AF/JO/698|Erskine|Johnne|Nephew|A/EGD/143|jhm\n",
      "AF/JO/699|Erskine|Alexander|Nephew|A/EGD/143|jhm\n",
      "AF/LA/334|Stewart|Annabell|In-law|A/EGD/1729|LEM\n",
      "AF/LA/335|Stewart|John|In-law|A/EGD/1729|LEM\n",
      "AF/LA/336|Stewart|Hugh|In-law|A/EGD/1729|LEM\n",
      "AF/LA/337|Mathie|Jonet|In-law|A/EGD/1729|LEM\n",
      "AF/LA/338|Stewart|John|In-law|A/EGD/1729|LEM\n",
      "AF/LA/44|Ruchheid|James|Son|A/EGD/1212|LEM\n",
      "AF/LA/583|Erskine|Robert|Brother|A/EGD/142|LEM\n",
      "AF/LA/584|Erskine|Robert|Brother|A/EGD/143|LEM\n",
      "AF/LA/716|Ruchheid|Margaret|Daughter|A/EGD/1212|LEM\n",
      "AF/LA/717|Ruchheid|Thomas|Husband|A/EGD/1212|LEM\n",
      "AF/LA/718|Wilson|Margaret|Sister|A/EGD/1212|LEM\n",
      "AF/LA/719|Home|John|Son-in-law|A/EGD/1212|LEM\n",
      "AF/LA/720|Prat|Johne|Brother-in-law|A/EGD/1212|LEM\n",
      "AF/LA/75|Erskine|Helene|Sister|A/EGD/142|LEM\n",
      "AF/LA/76|Erskine|Issobell|Sister|A/EGD/142|LEM\n",
      "AF/LA/77|Erskine|Johnne|Father|A/EGD/142|LEM\n",
      "AF/LA/81|Erskine|Annas|Sister|A/EGD/143|LEM\n",
      "AF/LA/82|Erskine|Helene|Sister|A/EGD/143|LEM\n",
      "AF/LA/83|Erskine|Johnne|Father|A/EGD/143|LEM\n"
     ]
    }
   ],
   "source": [
    "!echo \"Familiares a incluir y relacion con cada acusado:\"\n",
    "!cat /home/learner/notebooks/data/WDB_Accused_family_loadNeo4j_py2neo.txt"
   ]
  },
  {
   "cell_type": "code",
   "execution_count": 82,
   "metadata": {
    "collapsed": false
   },
   "outputs": [
    {
     "name": "stdout",
     "output_type": "stream",
     "text": [
      "0 rows affected.\n"
     ]
    },
    {
     "data": {
      "text/html": [
       "<table>\n",
       "    <tr>\n",
       "    </tr>\n",
       "</table>"
      ],
      "text/plain": [
       "[]"
      ]
     },
     "execution_count": 82,
     "metadata": {},
     "output_type": "execute_result"
    }
   ],
   "source": [
    "%cypher CREATE CONSTRAINT ON (af:Accused_family) ASSERT af.Accused_familyRef IS UNIQUE"
   ]
  },
  {
   "cell_type": "code",
   "execution_count": 83,
   "metadata": {
    "collapsed": false,
    "scrolled": true
   },
   "outputs": [
    {
     "name": "stdout",
     "output_type": "stream",
     "text": [
      "24 nodos creados.\n"
     ]
    }
   ],
   "source": [
    "WDB_Accused_family_dataPath = '/home/learner/notebooks/data/WDB_Accused_family_loadNeo4j_py2neo.txt'\n",
    "WDB_Accused_family_csvFile = open(WDB_Accused_family_dataPath, \"r\")\n",
    "n = 0\n",
    "for WDB_Accused_family_csvLine in WDB_Accused_family_csvFile:\n",
    "    try:\n",
    "        graph.create(Node(\"Accused_family\"\n",
    "                      , Accused_familyRef = WDB_Accused_family_csvLine.split(\"|\")[0]\n",
    "                      , SurName           = WDB_Accused_family_csvLine.split(\"|\")[1]\n",
    "                      , FirstName         = WDB_Accused_family_csvLine.split(\"|\")[2]\n",
    "                      , Relationship      = WDB_Accused_family_csvLine.split(\"|\")[3]\n",
    "                      , AccusedRef        = WDB_Accused_family_csvLine.split(\"|\")[4]\n",
    "                      , NodeLabel         = WDB_Accused_family_csvLine.split(\"|\")[1]\n",
    "                                    + \"_\" + WDB_Accused_family_csvLine.split(\"|\")[2]\n",
    "                                    + \"_\" + \"Accused_family\"\n",
    "                     )\n",
    "                )\n",
    "        n = n + 1\n",
    "    except py2neo.GraphError:\n",
    "        print \"Error al crear nodo para Accused_familyRef:\", WDB_Accused_csvLine.split(\"|\")[0]\n",
    "        break\n",
    "\n",
    "print n, \"nodos creados.\"\n",
    "\n",
    "WDB_Accused_family_csvFile.close()"
   ]
  },
  {
   "cell_type": "markdown",
   "metadata": {},
   "source": [
    "#### Verificamos el resultado, ¿cuantos nodos tenemos ahora?"
   ]
  },
  {
   "cell_type": "code",
   "execution_count": 84,
   "metadata": {
    "collapsed": false
   },
   "outputs": [
    {
     "name": "stdout",
     "output_type": "stream",
     "text": [
      "1 rows affected.\n"
     ]
    },
    {
     "data": {
      "text/html": [
       "<table>\n",
       "    <tr>\n",
       "        <th>count(1)</th>\n",
       "    </tr>\n",
       "    <tr>\n",
       "        <td>28</td>\n",
       "    </tr>\n",
       "</table>"
      ],
      "text/plain": [
       "[[28]]"
      ]
     },
     "execution_count": 84,
     "metadata": {},
     "output_type": "execute_result"
    }
   ],
   "source": [
    "%%cypher\n",
    "MATCH (n)\n",
    "RETURN count(1)"
   ]
  },
  {
   "cell_type": "markdown",
   "metadata": {},
   "source": [
    "#### ¿Cuantos \"acusados\"?"
   ]
  },
  {
   "cell_type": "code",
   "execution_count": 85,
   "metadata": {
    "collapsed": false
   },
   "outputs": [
    {
     "name": "stdout",
     "output_type": "stream",
     "text": [
      "1 rows affected.\n"
     ]
    },
    {
     "data": {
      "text/html": [
       "<table>\n",
       "    <tr>\n",
       "        <th>ACUSADOS</th>\n",
       "    </tr>\n",
       "    <tr>\n",
       "        <td>4</td>\n",
       "    </tr>\n",
       "</table>"
      ],
      "text/plain": [
       "[[4]]"
      ]
     },
     "execution_count": 85,
     "metadata": {},
     "output_type": "execute_result"
    }
   ],
   "source": [
    "%%cypher\n",
    "MATCH (Acusado:Accused)\n",
    "RETURN count(1) as ACUSADOS"
   ]
  },
  {
   "cell_type": "markdown",
   "metadata": {},
   "source": [
    "#### ¿Cuantos \"familiares\"?"
   ]
  },
  {
   "cell_type": "code",
   "execution_count": 86,
   "metadata": {
    "collapsed": false
   },
   "outputs": [
    {
     "name": "stdout",
     "output_type": "stream",
     "text": [
      "1 rows affected.\n"
     ]
    },
    {
     "data": {
      "text/html": [
       "<table>\n",
       "    <tr>\n",
       "        <th>FAMILIARES</th>\n",
       "    </tr>\n",
       "    <tr>\n",
       "        <td>24</td>\n",
       "    </tr>\n",
       "</table>"
      ],
      "text/plain": [
       "[[24]]"
      ]
     },
     "execution_count": 86,
     "metadata": {},
     "output_type": "execute_result"
    }
   ],
   "source": [
    "%%cypher\n",
    "MATCH (Familiar:Accused_family)\n",
    "RETURN count(1) as FAMILIARES"
   ]
  },
  {
   "cell_type": "code",
   "execution_count": 87,
   "metadata": {
    "collapsed": false
   },
   "outputs": [
    {
     "name": "stdout",
     "output_type": "stream",
     "text": [
      "24 rows affected.\n"
     ]
    },
    {
     "data": {
      "text/html": [
       "<table>\n",
       "    <tr>\n",
       "        <th>Familiar</th>\n",
       "    </tr>\n",
       "    <tr>\n",
       "        <td>{u'AccusedRef': u'A/EGD/1729', u'SurName': u'Stewart', u'FirstName': u'Thomas', u'Relationship': u'Husband', u'Accused_familyRef': u'AF/JO/195', u'NodeLabel': u'Stewart_Thomas_Accused_family'}</td>\n",
       "    </tr>\n",
       "    <tr>\n",
       "        <td>{u'AccusedRef': u'A/EGD/142', u'SurName': u'Erskine', u'FirstName': u'Johnne', u'Relationship': u'Nephew', u'Accused_familyRef': u'AF/JO/696', u'NodeLabel': u'Erskine_Johnne_Accused_family'}</td>\n",
       "    </tr>\n",
       "    <tr>\n",
       "        <td>{u'AccusedRef': u'A/EGD/142', u'SurName': u'Erskine', u'FirstName': u'Alexnder', u'Relationship': u'Nephew', u'Accused_familyRef': u'AF/JO/697', u'NodeLabel': u'Erskine_Alexnder_Accused_family'}</td>\n",
       "    </tr>\n",
       "    <tr>\n",
       "        <td>{u'AccusedRef': u'A/EGD/143', u'SurName': u'Erskine', u'FirstName': u'Johnne', u'Relationship': u'Nephew', u'Accused_familyRef': u'AF/JO/698', u'NodeLabel': u'Erskine_Johnne_Accused_family'}</td>\n",
       "    </tr>\n",
       "    <tr>\n",
       "        <td>{u'AccusedRef': u'A/EGD/143', u'SurName': u'Erskine', u'FirstName': u'Alexander', u'Relationship': u'Nephew', u'Accused_familyRef': u'AF/JO/699', u'NodeLabel': u'Erskine_Alexander_Accused_family'}</td>\n",
       "    </tr>\n",
       "    <tr>\n",
       "        <td>{u'AccusedRef': u'A/EGD/1729', u'SurName': u'Stewart', u'FirstName': u'Annabell', u'Relationship': u'In-law', u'Accused_familyRef': u'AF/LA/334', u'NodeLabel': u'Stewart_Annabell_Accused_family'}</td>\n",
       "    </tr>\n",
       "    <tr>\n",
       "        <td>{u'AccusedRef': u'A/EGD/1729', u'SurName': u'Stewart', u'FirstName': u'John', u'Relationship': u'In-law', u'Accused_familyRef': u'AF/LA/335', u'NodeLabel': u'Stewart_John_Accused_family'}</td>\n",
       "    </tr>\n",
       "    <tr>\n",
       "        <td>{u'AccusedRef': u'A/EGD/1729', u'SurName': u'Stewart', u'FirstName': u'Hugh', u'Relationship': u'In-law', u'Accused_familyRef': u'AF/LA/336', u'NodeLabel': u'Stewart_Hugh_Accused_family'}</td>\n",
       "    </tr>\n",
       "    <tr>\n",
       "        <td>{u'AccusedRef': u'A/EGD/1729', u'SurName': u'Mathie', u'FirstName': u'Jonet', u'Relationship': u'In-law', u'Accused_familyRef': u'AF/LA/337', u'NodeLabel': u'Mathie_Jonet_Accused_family'}</td>\n",
       "    </tr>\n",
       "    <tr>\n",
       "        <td>{u'AccusedRef': u'A/EGD/1729', u'SurName': u'Stewart', u'FirstName': u'John', u'Relationship': u'In-law', u'Accused_familyRef': u'AF/LA/338', u'NodeLabel': u'Stewart_John_Accused_family'}</td>\n",
       "    </tr>\n",
       "    <tr>\n",
       "        <td>{u'AccusedRef': u'A/EGD/1212', u'SurName': u'Ruchheid', u'FirstName': u'James', u'Relationship': u'Son', u'Accused_familyRef': u'AF/LA/44', u'NodeLabel': u'Ruchheid_James_Accused_family'}</td>\n",
       "    </tr>\n",
       "    <tr>\n",
       "        <td>{u'AccusedRef': u'A/EGD/142', u'SurName': u'Erskine', u'FirstName': u'Robert', u'Relationship': u'Brother', u'Accused_familyRef': u'AF/LA/583', u'NodeLabel': u'Erskine_Robert_Accused_family'}</td>\n",
       "    </tr>\n",
       "    <tr>\n",
       "        <td>{u'AccusedRef': u'A/EGD/143', u'SurName': u'Erskine', u'FirstName': u'Robert', u'Relationship': u'Brother', u'Accused_familyRef': u'AF/LA/584', u'NodeLabel': u'Erskine_Robert_Accused_family'}</td>\n",
       "    </tr>\n",
       "    <tr>\n",
       "        <td>{u'AccusedRef': u'A/EGD/1212', u'SurName': u'Ruchheid', u'FirstName': u'Margaret', u'Relationship': u'Daughter', u'Accused_familyRef': u'AF/LA/716', u'NodeLabel': u'Ruchheid_Margaret_Accused_family'}</td>\n",
       "    </tr>\n",
       "    <tr>\n",
       "        <td>{u'AccusedRef': u'A/EGD/1212', u'SurName': u'Ruchheid', u'FirstName': u'Thomas', u'Relationship': u'Husband', u'Accused_familyRef': u'AF/LA/717', u'NodeLabel': u'Ruchheid_Thomas_Accused_family'}</td>\n",
       "    </tr>\n",
       "    <tr>\n",
       "        <td>{u'AccusedRef': u'A/EGD/1212', u'SurName': u'Wilson', u'FirstName': u'Margaret', u'Relationship': u'Sister', u'Accused_familyRef': u'AF/LA/718', u'NodeLabel': u'Wilson_Margaret_Accused_family'}</td>\n",
       "    </tr>\n",
       "    <tr>\n",
       "        <td>{u'AccusedRef': u'A/EGD/1212', u'SurName': u'Home', u'FirstName': u'John', u'Relationship': u'Son-in-law', u'Accused_familyRef': u'AF/LA/719', u'NodeLabel': u'Home_John_Accused_family'}</td>\n",
       "    </tr>\n",
       "    <tr>\n",
       "        <td>{u'AccusedRef': u'A/EGD/1212', u'SurName': u'Prat', u'FirstName': u'Johne', u'Relationship': u'Brother-in-law', u'Accused_familyRef': u'AF/LA/720', u'NodeLabel': u'Prat_Johne_Accused_family'}</td>\n",
       "    </tr>\n",
       "    <tr>\n",
       "        <td>{u'AccusedRef': u'A/EGD/142', u'SurName': u'Erskine', u'FirstName': u'Helene', u'Relationship': u'Sister', u'Accused_familyRef': u'AF/LA/75', u'NodeLabel': u'Erskine_Helene_Accused_family'}</td>\n",
       "    </tr>\n",
       "    <tr>\n",
       "        <td>{u'AccusedRef': u'A/EGD/142', u'SurName': u'Erskine', u'FirstName': u'Issobell', u'Relationship': u'Sister', u'Accused_familyRef': u'AF/LA/76', u'NodeLabel': u'Erskine_Issobell_Accused_family'}</td>\n",
       "    </tr>\n",
       "    <tr>\n",
       "        <td>{u'AccusedRef': u'A/EGD/142', u'SurName': u'Erskine', u'FirstName': u'Johnne', u'Relationship': u'Father', u'Accused_familyRef': u'AF/LA/77', u'NodeLabel': u'Erskine_Johnne_Accused_family'}</td>\n",
       "    </tr>\n",
       "    <tr>\n",
       "        <td>{u'AccusedRef': u'A/EGD/143', u'SurName': u'Erskine', u'FirstName': u'Annas', u'Relationship': u'Sister', u'Accused_familyRef': u'AF/LA/81', u'NodeLabel': u'Erskine_Annas_Accused_family'}</td>\n",
       "    </tr>\n",
       "    <tr>\n",
       "        <td>{u'AccusedRef': u'A/EGD/143', u'SurName': u'Erskine', u'FirstName': u'Helene', u'Relationship': u'Sister', u'Accused_familyRef': u'AF/LA/82', u'NodeLabel': u'Erskine_Helene_Accused_family'}</td>\n",
       "    </tr>\n",
       "    <tr>\n",
       "        <td>{u'AccusedRef': u'A/EGD/143', u'SurName': u'Erskine', u'FirstName': u'Johnne', u'Relationship': u'Father', u'Accused_familyRef': u'AF/LA/83', u'NodeLabel': u'Erskine_Johnne_Accused_family'}</td>\n",
       "    </tr>\n",
       "</table>"
      ],
      "text/plain": [
       "[[{u'AccusedRef': u'A/EGD/1729',\n",
       "   u'Accused_familyRef': u'AF/JO/195',\n",
       "   u'FirstName': u'Thomas',\n",
       "   u'NodeLabel': u'Stewart_Thomas_Accused_family',\n",
       "   u'Relationship': u'Husband',\n",
       "   u'SurName': u'Stewart'}],\n",
       " [{u'AccusedRef': u'A/EGD/142',\n",
       "   u'Accused_familyRef': u'AF/JO/696',\n",
       "   u'FirstName': u'Johnne',\n",
       "   u'NodeLabel': u'Erskine_Johnne_Accused_family',\n",
       "   u'Relationship': u'Nephew',\n",
       "   u'SurName': u'Erskine'}],\n",
       " [{u'AccusedRef': u'A/EGD/142',\n",
       "   u'Accused_familyRef': u'AF/JO/697',\n",
       "   u'FirstName': u'Alexnder',\n",
       "   u'NodeLabel': u'Erskine_Alexnder_Accused_family',\n",
       "   u'Relationship': u'Nephew',\n",
       "   u'SurName': u'Erskine'}],\n",
       " [{u'AccusedRef': u'A/EGD/143',\n",
       "   u'Accused_familyRef': u'AF/JO/698',\n",
       "   u'FirstName': u'Johnne',\n",
       "   u'NodeLabel': u'Erskine_Johnne_Accused_family',\n",
       "   u'Relationship': u'Nephew',\n",
       "   u'SurName': u'Erskine'}],\n",
       " [{u'AccusedRef': u'A/EGD/143',\n",
       "   u'Accused_familyRef': u'AF/JO/699',\n",
       "   u'FirstName': u'Alexander',\n",
       "   u'NodeLabel': u'Erskine_Alexander_Accused_family',\n",
       "   u'Relationship': u'Nephew',\n",
       "   u'SurName': u'Erskine'}],\n",
       " [{u'AccusedRef': u'A/EGD/1729',\n",
       "   u'Accused_familyRef': u'AF/LA/334',\n",
       "   u'FirstName': u'Annabell',\n",
       "   u'NodeLabel': u'Stewart_Annabell_Accused_family',\n",
       "   u'Relationship': u'In-law',\n",
       "   u'SurName': u'Stewart'}],\n",
       " [{u'AccusedRef': u'A/EGD/1729',\n",
       "   u'Accused_familyRef': u'AF/LA/335',\n",
       "   u'FirstName': u'John',\n",
       "   u'NodeLabel': u'Stewart_John_Accused_family',\n",
       "   u'Relationship': u'In-law',\n",
       "   u'SurName': u'Stewart'}],\n",
       " [{u'AccusedRef': u'A/EGD/1729',\n",
       "   u'Accused_familyRef': u'AF/LA/336',\n",
       "   u'FirstName': u'Hugh',\n",
       "   u'NodeLabel': u'Stewart_Hugh_Accused_family',\n",
       "   u'Relationship': u'In-law',\n",
       "   u'SurName': u'Stewart'}],\n",
       " [{u'AccusedRef': u'A/EGD/1729',\n",
       "   u'Accused_familyRef': u'AF/LA/337',\n",
       "   u'FirstName': u'Jonet',\n",
       "   u'NodeLabel': u'Mathie_Jonet_Accused_family',\n",
       "   u'Relationship': u'In-law',\n",
       "   u'SurName': u'Mathie'}],\n",
       " [{u'AccusedRef': u'A/EGD/1729',\n",
       "   u'Accused_familyRef': u'AF/LA/338',\n",
       "   u'FirstName': u'John',\n",
       "   u'NodeLabel': u'Stewart_John_Accused_family',\n",
       "   u'Relationship': u'In-law',\n",
       "   u'SurName': u'Stewart'}],\n",
       " [{u'AccusedRef': u'A/EGD/1212',\n",
       "   u'Accused_familyRef': u'AF/LA/44',\n",
       "   u'FirstName': u'James',\n",
       "   u'NodeLabel': u'Ruchheid_James_Accused_family',\n",
       "   u'Relationship': u'Son',\n",
       "   u'SurName': u'Ruchheid'}],\n",
       " [{u'AccusedRef': u'A/EGD/142',\n",
       "   u'Accused_familyRef': u'AF/LA/583',\n",
       "   u'FirstName': u'Robert',\n",
       "   u'NodeLabel': u'Erskine_Robert_Accused_family',\n",
       "   u'Relationship': u'Brother',\n",
       "   u'SurName': u'Erskine'}],\n",
       " [{u'AccusedRef': u'A/EGD/143',\n",
       "   u'Accused_familyRef': u'AF/LA/584',\n",
       "   u'FirstName': u'Robert',\n",
       "   u'NodeLabel': u'Erskine_Robert_Accused_family',\n",
       "   u'Relationship': u'Brother',\n",
       "   u'SurName': u'Erskine'}],\n",
       " [{u'AccusedRef': u'A/EGD/1212',\n",
       "   u'Accused_familyRef': u'AF/LA/716',\n",
       "   u'FirstName': u'Margaret',\n",
       "   u'NodeLabel': u'Ruchheid_Margaret_Accused_family',\n",
       "   u'Relationship': u'Daughter',\n",
       "   u'SurName': u'Ruchheid'}],\n",
       " [{u'AccusedRef': u'A/EGD/1212',\n",
       "   u'Accused_familyRef': u'AF/LA/717',\n",
       "   u'FirstName': u'Thomas',\n",
       "   u'NodeLabel': u'Ruchheid_Thomas_Accused_family',\n",
       "   u'Relationship': u'Husband',\n",
       "   u'SurName': u'Ruchheid'}],\n",
       " [{u'AccusedRef': u'A/EGD/1212',\n",
       "   u'Accused_familyRef': u'AF/LA/718',\n",
       "   u'FirstName': u'Margaret',\n",
       "   u'NodeLabel': u'Wilson_Margaret_Accused_family',\n",
       "   u'Relationship': u'Sister',\n",
       "   u'SurName': u'Wilson'}],\n",
       " [{u'AccusedRef': u'A/EGD/1212',\n",
       "   u'Accused_familyRef': u'AF/LA/719',\n",
       "   u'FirstName': u'John',\n",
       "   u'NodeLabel': u'Home_John_Accused_family',\n",
       "   u'Relationship': u'Son-in-law',\n",
       "   u'SurName': u'Home'}],\n",
       " [{u'AccusedRef': u'A/EGD/1212',\n",
       "   u'Accused_familyRef': u'AF/LA/720',\n",
       "   u'FirstName': u'Johne',\n",
       "   u'NodeLabel': u'Prat_Johne_Accused_family',\n",
       "   u'Relationship': u'Brother-in-law',\n",
       "   u'SurName': u'Prat'}],\n",
       " [{u'AccusedRef': u'A/EGD/142',\n",
       "   u'Accused_familyRef': u'AF/LA/75',\n",
       "   u'FirstName': u'Helene',\n",
       "   u'NodeLabel': u'Erskine_Helene_Accused_family',\n",
       "   u'Relationship': u'Sister',\n",
       "   u'SurName': u'Erskine'}],\n",
       " [{u'AccusedRef': u'A/EGD/142',\n",
       "   u'Accused_familyRef': u'AF/LA/76',\n",
       "   u'FirstName': u'Issobell',\n",
       "   u'NodeLabel': u'Erskine_Issobell_Accused_family',\n",
       "   u'Relationship': u'Sister',\n",
       "   u'SurName': u'Erskine'}],\n",
       " [{u'AccusedRef': u'A/EGD/142',\n",
       "   u'Accused_familyRef': u'AF/LA/77',\n",
       "   u'FirstName': u'Johnne',\n",
       "   u'NodeLabel': u'Erskine_Johnne_Accused_family',\n",
       "   u'Relationship': u'Father',\n",
       "   u'SurName': u'Erskine'}],\n",
       " [{u'AccusedRef': u'A/EGD/143',\n",
       "   u'Accused_familyRef': u'AF/LA/81',\n",
       "   u'FirstName': u'Annas',\n",
       "   u'NodeLabel': u'Erskine_Annas_Accused_family',\n",
       "   u'Relationship': u'Sister',\n",
       "   u'SurName': u'Erskine'}],\n",
       " [{u'AccusedRef': u'A/EGD/143',\n",
       "   u'Accused_familyRef': u'AF/LA/82',\n",
       "   u'FirstName': u'Helene',\n",
       "   u'NodeLabel': u'Erskine_Helene_Accused_family',\n",
       "   u'Relationship': u'Sister',\n",
       "   u'SurName': u'Erskine'}],\n",
       " [{u'AccusedRef': u'A/EGD/143',\n",
       "   u'Accused_familyRef': u'AF/LA/83',\n",
       "   u'FirstName': u'Johnne',\n",
       "   u'NodeLabel': u'Erskine_Johnne_Accused_family',\n",
       "   u'Relationship': u'Father',\n",
       "   u'SurName': u'Erskine'}]]"
      ]
     },
     "execution_count": 87,
     "metadata": {},
     "output_type": "execute_result"
    }
   ],
   "source": [
    "%%cypher\n",
    "MATCH (Familiar:Accused_family)\n",
    "RETURN Familiar"
   ]
  },
  {
   "cell_type": "markdown",
   "metadata": {},
   "source": [
    "#### ¿Y gráficamente?"
   ]
  },
  {
   "cell_type": "code",
   "execution_count": 88,
   "metadata": {
    "collapsed": false,
    "scrolled": true
   },
   "outputs": [
    {
     "data": {
      "text/html": [
       "\n",
       "        <iframe\n",
       "            width=\"100%\"\n",
       "            height=\"400\"\n",
       "            src=\"figures/graph-73d0ec6f-7d30-4c49-b0bc-8460f5d65991.html\"\n",
       "            frameborder=\"0\"\n",
       "            allowfullscreen\n",
       "        ></iframe>\n",
       "        "
      ],
      "text/plain": [
       "<IPython.lib.display.IFrame at 0x7f5cb0696bd0>"
      ]
     },
     "execution_count": 88,
     "metadata": {},
     "output_type": "execute_result"
    }
   ],
   "source": [
    "from scripts.vis import draw\n",
    "\n",
    "options = {   \"Accused\": \"NodeLabel\"\n",
    "            , \"Accused_family\": \"NodeLabel\"\n",
    "          }\n",
    "draw(graph, options, physics=True)"
   ]
  },
  {
   "cell_type": "markdown",
   "metadata": {},
   "source": [
    "### Creamos las relaciones"
   ]
  },
  {
   "cell_type": "code",
   "execution_count": 89,
   "metadata": {
    "collapsed": false,
    "scrolled": true
   },
   "outputs": [
    {
     "name": "stdout",
     "output_type": "stream",
     "text": [
      "48 properties set.\n",
      "24 relationships created.\n"
     ]
    },
    {
     "data": {
      "text/html": [
       "<table>\n",
       "    <tr>\n",
       "    </tr>\n",
       "</table>"
      ],
      "text/plain": [
       "[]"
      ]
     },
     "execution_count": 89,
     "metadata": {},
     "output_type": "execute_result"
    }
   ],
   "source": [
    "%%cypher\n",
    "MATCH (a:Accused),(af:Accused_family)\n",
    "WHERE a.AccusedRef = af.AccusedRef\n",
    "CREATE (a)<-[r: Relationship { name: af.Relationship , label: af.Relationship }]-(af)"
   ]
  },
  {
   "cell_type": "code",
   "execution_count": 90,
   "metadata": {
    "collapsed": false,
    "scrolled": false
   },
   "outputs": [
    {
     "data": {
      "text/html": [
       "\n",
       "        <iframe\n",
       "            width=\"100%\"\n",
       "            height=\"400\"\n",
       "            src=\"figures/graph-592ddcf4-0dfe-45ad-84b2-6b30ef08c2d2.html\"\n",
       "            frameborder=\"0\"\n",
       "            allowfullscreen\n",
       "        ></iframe>\n",
       "        "
      ],
      "text/plain": [
       "<IPython.lib.display.IFrame at 0x7f5cb06a6050>"
      ]
     },
     "execution_count": 90,
     "metadata": {},
     "output_type": "execute_result"
    }
   ],
   "source": [
    "from scripts.vis import draw\n",
    "\n",
    "options = {   \"Accused\": \"NodeLabel\"\n",
    "            , \"Accused_family\": \"NodeLabel\"\n",
    "          }\n",
    "draw(graph, options, physics=True)"
   ]
  },
  {
   "cell_type": "markdown",
   "metadata": {
    "collapsed": true
   },
   "source": [
    "#### No he conseguido que en la representación gráfica aparezca el nombre de la relación, pero sí puede forzarse la etiqueta o el nombre asignada a cada relación en el browser\n",
    "<img src=\"http://localhost:8001/files/SWP-ScotWitchProject/images/graph.png\">"
   ]
  },
  {
   "cell_type": "markdown",
   "metadata": {
    "collapsed": true
   },
   "source": [
    "### A continuación realizaremos las cargas completas para obtener algunas de las consultas realizadas con anteriores BBDD"
   ]
  },
  {
   "cell_type": "code",
   "execution_count": 91,
   "metadata": {
    "collapsed": false
   },
   "outputs": [
    {
     "name": "stdout",
     "output_type": "stream",
     "text": [
      "total 16\r\n",
      "drwxr-xr-x 2 neo4j adm  4096 Mar  7 18:19 tools\r\n",
      "drwxr-xr-x 3 neo4j adm  4096 Mar  7 18:19 bin\r\n",
      "drwxr-xr-x 2 neo4j adm  4096 Mar  7 18:19 lib\r\n",
      "drwxrwxrwx 2 root  root 4096 Apr  8 08:23 import\r\n"
     ]
    }
   ],
   "source": [
    "!ls -lrt /usr/share/neo4j"
   ]
  },
  {
   "cell_type": "code",
   "execution_count": 92,
   "metadata": {
    "collapsed": false
   },
   "outputs": [
    {
     "name": "stdout",
     "output_type": "stream",
     "text": [
      "[sudo] password for learner: mkdir: cannot create directory '/usr/share/neo4j/import': File exists\r\n"
     ]
    }
   ],
   "source": [
    "!echo 'learner' | sudo -S -u root mkdir /usr/share/neo4j/import"
   ]
  },
  {
   "cell_type": "code",
   "execution_count": 93,
   "metadata": {
    "collapsed": false
   },
   "outputs": [
    {
     "name": "stdout",
     "output_type": "stream",
     "text": [
      "[sudo] password for learner: "
     ]
    }
   ],
   "source": [
    "!echo 'learner' | sudo -S -u root chmod a+rw /usr/share/neo4j/import"
   ]
  },
  {
   "cell_type": "markdown",
   "metadata": {},
   "source": [
    "### Previamente hemos tenido que llevar los ficheros al directorio **import** para poder realizar las cargas con LOAD"
   ]
  },
  {
   "cell_type": "code",
   "execution_count": 94,
   "metadata": {
    "collapsed": false
   },
   "outputs": [],
   "source": [
    "!cp /home/learner/notebooks/data/WDB_Accused.txt /usr/share/neo4j/import/."
   ]
  },
  {
   "cell_type": "code",
   "execution_count": 95,
   "metadata": {
    "collapsed": false
   },
   "outputs": [
    {
     "name": "stdout",
     "output_type": "stream",
     "text": [
      "1 rows affected.\n"
     ]
    },
    {
     "data": {
      "text/html": [
       "<table>\n",
       "    <tr>\n",
       "        <th>count(*)</th>\n",
       "    </tr>\n",
       "    <tr>\n",
       "        <td>3219</td>\n",
       "    </tr>\n",
       "</table>"
      ],
      "text/plain": [
       "[[3219]]"
      ]
     },
     "execution_count": 95,
     "metadata": {},
     "output_type": "execute_result"
    }
   ],
   "source": [
    "%%cypher\n",
    "// assert correct line count\n",
    "LOAD CSV FROM \"file:/WDB_Accused.txt\" AS line\n",
    "RETURN count(*);"
   ]
  },
  {
   "cell_type": "code",
   "execution_count": 96,
   "metadata": {
    "collapsed": false
   },
   "outputs": [
    {
     "name": "stdout",
     "output_type": "stream",
     "text": [
      "5 rows affected.\n"
     ]
    },
    {
     "data": {
      "text/html": [
       "<table>\n",
       "    <tr>\n",
       "        <th>line</th>\n",
       "    </tr>\n",
       "    <tr>\n",
       "        <td>[u'A/EGD/10', u'EGD', u'10', u'Mareon', u'Quheitt', u'Marion', u'White', None, None, None, u'Female', None, u'0', u'0', u'Sammuelston', u'P/JO/3539', u'Haddington', u'Haddington', None, None, None, None, None, None, None, None, None, u'SMD', u'15/5/2001 11:06:51', u'jhm', u'9/8/2002 11:40:51']</td>\n",
       "    </tr>\n",
       "    <tr>\n",
       "        <td>[u'A/EGD/100', u'EGD', u'100', u'Thom', u'Cockburn', u'Thomas', u'Cockburn', None, None, None, u'Male', None, u'0', u'0', None, None, None, u'Haddington', None, None, None, None, None, None, None, None, None, u'SMD', u'15/5/2001 11:06:51', u'jhm', u'2/10/2002 10:32:30']</td>\n",
       "    </tr>\n",
       "    <tr>\n",
       "        <td>[u'A/EGD/1000', u'EGD', u'1000', u'Christian', u'Aitkenhead', u'Christine', u'Aikenhead', None, None, None, u'Female', None, u'0', u'0', u'Rottinraw', None, None, u'Dumfries', None, None, None, None, None, u'Married', None, None, None, u'SMD', u'15/5/2001 11:06:51', u'jhm', u'1/10/2002 10:48:12']</td>\n",
       "    </tr>\n",
       "    <tr>\n",
       "        <td>[u'A/EGD/1001', u'EGD', u'1001', u'Janet', u'Ireland', u'Janet', u'Ireland', None, None, None, u'Female', None, u'0', u'0', u'Rottinraw', None, None, u'Dumfries', None, None, None, None, None, u'Widowed', None, None, None, u'SMD', u'15/5/2001 11:06:51', u'jhm', u'1/10/2002 10:49:00']</td>\n",
       "    </tr>\n",
       "    <tr>\n",
       "        <td>[u'A/EGD/1002', u'EGD', u'1002', u'Agnes', u'Hendersoun', u'Agnes', u'Henderson', None, None, None, u'Female', None, u'0', u'0', None, u'P/ST/1446', u'Stirling', u'Stirling', None, None, None, None, None, None, None, None, None, u'SMD', u'15/5/2001 11:06:51', u'jhm', u'1/10/2002 10:50:07']</td>\n",
       "    </tr>\n",
       "</table>"
      ],
      "text/plain": [
       "[[[u'A/EGD/10',\n",
       "   u'EGD',\n",
       "   u'10',\n",
       "   u'Mareon',\n",
       "   u'Quheitt',\n",
       "   u'Marion',\n",
       "   u'White',\n",
       "   None,\n",
       "   None,\n",
       "   None,\n",
       "   u'Female',\n",
       "   None,\n",
       "   u'0',\n",
       "   u'0',\n",
       "   u'Sammuelston',\n",
       "   u'P/JO/3539',\n",
       "   u'Haddington',\n",
       "   u'Haddington',\n",
       "   None,\n",
       "   None,\n",
       "   None,\n",
       "   None,\n",
       "   None,\n",
       "   None,\n",
       "   None,\n",
       "   None,\n",
       "   None,\n",
       "   u'SMD',\n",
       "   u'15/5/2001 11:06:51',\n",
       "   u'jhm',\n",
       "   u'9/8/2002 11:40:51']],\n",
       " [[u'A/EGD/100',\n",
       "   u'EGD',\n",
       "   u'100',\n",
       "   u'Thom',\n",
       "   u'Cockburn',\n",
       "   u'Thomas',\n",
       "   u'Cockburn',\n",
       "   None,\n",
       "   None,\n",
       "   None,\n",
       "   u'Male',\n",
       "   None,\n",
       "   u'0',\n",
       "   u'0',\n",
       "   None,\n",
       "   None,\n",
       "   None,\n",
       "   u'Haddington',\n",
       "   None,\n",
       "   None,\n",
       "   None,\n",
       "   None,\n",
       "   None,\n",
       "   None,\n",
       "   None,\n",
       "   None,\n",
       "   None,\n",
       "   u'SMD',\n",
       "   u'15/5/2001 11:06:51',\n",
       "   u'jhm',\n",
       "   u'2/10/2002 10:32:30']],\n",
       " [[u'A/EGD/1000',\n",
       "   u'EGD',\n",
       "   u'1000',\n",
       "   u'Christian',\n",
       "   u'Aitkenhead',\n",
       "   u'Christine',\n",
       "   u'Aikenhead',\n",
       "   None,\n",
       "   None,\n",
       "   None,\n",
       "   u'Female',\n",
       "   None,\n",
       "   u'0',\n",
       "   u'0',\n",
       "   u'Rottinraw',\n",
       "   None,\n",
       "   None,\n",
       "   u'Dumfries',\n",
       "   None,\n",
       "   None,\n",
       "   None,\n",
       "   None,\n",
       "   None,\n",
       "   u'Married',\n",
       "   None,\n",
       "   None,\n",
       "   None,\n",
       "   u'SMD',\n",
       "   u'15/5/2001 11:06:51',\n",
       "   u'jhm',\n",
       "   u'1/10/2002 10:48:12']],\n",
       " [[u'A/EGD/1001',\n",
       "   u'EGD',\n",
       "   u'1001',\n",
       "   u'Janet',\n",
       "   u'Ireland',\n",
       "   u'Janet',\n",
       "   u'Ireland',\n",
       "   None,\n",
       "   None,\n",
       "   None,\n",
       "   u'Female',\n",
       "   None,\n",
       "   u'0',\n",
       "   u'0',\n",
       "   u'Rottinraw',\n",
       "   None,\n",
       "   None,\n",
       "   u'Dumfries',\n",
       "   None,\n",
       "   None,\n",
       "   None,\n",
       "   None,\n",
       "   None,\n",
       "   u'Widowed',\n",
       "   None,\n",
       "   None,\n",
       "   None,\n",
       "   u'SMD',\n",
       "   u'15/5/2001 11:06:51',\n",
       "   u'jhm',\n",
       "   u'1/10/2002 10:49:00']],\n",
       " [[u'A/EGD/1002',\n",
       "   u'EGD',\n",
       "   u'1002',\n",
       "   u'Agnes',\n",
       "   u'Hendersoun',\n",
       "   u'Agnes',\n",
       "   u'Henderson',\n",
       "   None,\n",
       "   None,\n",
       "   None,\n",
       "   u'Female',\n",
       "   None,\n",
       "   u'0',\n",
       "   u'0',\n",
       "   None,\n",
       "   u'P/ST/1446',\n",
       "   u'Stirling',\n",
       "   u'Stirling',\n",
       "   None,\n",
       "   None,\n",
       "   None,\n",
       "   None,\n",
       "   None,\n",
       "   None,\n",
       "   None,\n",
       "   None,\n",
       "   None,\n",
       "   u'SMD',\n",
       "   u'15/5/2001 11:06:51',\n",
       "   u'jhm',\n",
       "   u'1/10/2002 10:50:07']]]"
      ]
     },
     "execution_count": 96,
     "metadata": {},
     "output_type": "execute_result"
    }
   ],
   "source": [
    "%%cypher\n",
    "// check first few raw lines\n",
    "LOAD CSV FROM \"file:/WDB_Accused.txt\" AS line WITH line\n",
    "RETURN line\n",
    "LIMIT 5;"
   ]
  },
  {
   "cell_type": "code",
   "execution_count": 97,
   "metadata": {
    "collapsed": false
   },
   "outputs": [
    {
     "name": "stdout",
     "output_type": "stream",
     "text": [
      "24 relationship deleted.\n",
      "28 nodes deleted.\n"
     ]
    },
    {
     "data": {
      "text/html": [
       "<table>\n",
       "    <tr>\n",
       "    </tr>\n",
       "</table>"
      ],
      "text/plain": [
       "[]"
      ]
     },
     "execution_count": 97,
     "metadata": {},
     "output_type": "execute_result"
    }
   ],
   "source": [
    "%%cypher\n",
    "//Limpiando datos existentes\n",
    "MATCH (n)\n",
    "OPTIONAL MATCH (n)-[r]-()\n",
    "DELETE n,r"
   ]
  },
  {
   "cell_type": "code",
   "execution_count": 98,
   "metadata": {
    "collapsed": false
   },
   "outputs": [
    {
     "name": "stdout",
     "output_type": "stream",
     "text": [
      "3219 labels added.\n",
      "3219 nodes created.\n",
      "12869 properties set.\n"
     ]
    },
    {
     "data": {
      "text/html": [
       "<table>\n",
       "    <tr>\n",
       "    </tr>\n",
       "</table>"
      ],
      "text/plain": [
       "[]"
      ]
     },
     "execution_count": 98,
     "metadata": {},
     "output_type": "execute_result"
    }
   ],
   "source": [
    "%%cypher\n",
    "USING PERIODIC COMMIT\n",
    "LOAD CSV FROM \"file:/WDB_Accused.txt\" AS row\n",
    "CREATE (:Accused { AccusedRef: row[0]\n",
    "                 , FirstName: row[3]\n",
    "                 , LastName: row[4]\n",
    "                 , FirstName_LastName: row[3] + \" \" + row[4]\n",
    "                 });"
   ]
  },
  {
   "cell_type": "markdown",
   "metadata": {},
   "source": [
    "### Y la información de los casos"
   ]
  },
  {
   "cell_type": "code",
   "execution_count": 99,
   "metadata": {
    "collapsed": false
   },
   "outputs": [],
   "source": [
    "!cp /home/learner/notebooks/data/WDB_Case.txt /usr/share/neo4j/import/."
   ]
  },
  {
   "cell_type": "code",
   "execution_count": 100,
   "metadata": {
    "collapsed": false
   },
   "outputs": [
    {
     "name": "stdout",
     "output_type": "stream",
     "text": [
      "3413 labels added.\n",
      "3413 nodes created.\n",
      "6625 properties set.\n"
     ]
    },
    {
     "data": {
      "text/html": [
       "<table>\n",
       "    <tr>\n",
       "    </tr>\n",
       "</table>"
      ],
      "text/plain": [
       "[]"
      ]
     },
     "execution_count": 100,
     "metadata": {},
     "output_type": "execute_result"
    }
   ],
   "source": [
    "%%cypher\n",
    "USING PERIODIC COMMIT\n",
    "LOAD CSV FROM \"file:/WDB_Case.txt\" AS row\n",
    "CREATE (:Case { CaseRef: row[0]\n",
    "              , AccusedRef: row[4]\n",
    "});"
   ]
  },
  {
   "cell_type": "code",
   "execution_count": 101,
   "metadata": {
    "collapsed": false
   },
   "outputs": [
    {
     "name": "stdout",
     "output_type": "stream",
     "text": [
      "2 rows affected.\n"
     ]
    },
    {
     "data": {
      "text/html": [
       "<table>\n",
       "    <tr>\n",
       "        <th>n.FirstName_LastName</th>\n",
       "        <th>n.CaseRef</th>\n",
       "        <th>n.AccusedRef</th>\n",
       "    </tr>\n",
       "    <tr>\n",
       "        <td>Cristeane Jak</td>\n",
       "        <td>None</td>\n",
       "        <td>A/LA/3244</td>\n",
       "    </tr>\n",
       "    <tr>\n",
       "        <td>None</td>\n",
       "        <td>C/LA/3406</td>\n",
       "        <td>A/LA/3244</td>\n",
       "    </tr>\n",
       "</table>"
      ],
      "text/plain": [
       "[[u'Cristeane Jak', None, u'A/LA/3244'], [None, u'C/LA/3406', u'A/LA/3244']]"
      ]
     },
     "execution_count": 101,
     "metadata": {},
     "output_type": "execute_result"
    }
   ],
   "source": [
    "%%cypher\n",
    "MATCH (n {AccusedRef: 'A/LA/3244'})\n",
    "RETURN n.FirstName_LastName,n.CaseRef,n.AccusedRef"
   ]
  },
  {
   "cell_type": "markdown",
   "metadata": {},
   "source": [
    "#### Y ahora las relaciones entre acusados y casos"
   ]
  },
  {
   "cell_type": "code",
   "execution_count": 102,
   "metadata": {
    "collapsed": false
   },
   "outputs": [
    {
     "name": "stdout",
     "output_type": "stream",
     "text": [
      "0 rows affected.\n"
     ]
    },
    {
     "data": {
      "text/html": [
       "<table>\n",
       "    <tr>\n",
       "    </tr>\n",
       "</table>"
      ],
      "text/plain": [
       "[]"
      ]
     },
     "execution_count": 102,
     "metadata": {},
     "output_type": "execute_result"
    }
   ],
   "source": [
    "%%cypher\n",
    "//Eliminamos relaciones\n",
    "MATCH (n)\n",
    "OPTIONAL MATCH (n)-[r]-()\n",
    "DELETE r"
   ]
  },
  {
   "cell_type": "code",
   "execution_count": 103,
   "metadata": {
    "collapsed": false,
    "scrolled": true
   },
   "outputs": [
    {
     "name": "stdout",
     "output_type": "stream",
     "text": [
      "3212 relationships created.\n"
     ]
    },
    {
     "data": {
      "text/html": [
       "<table>\n",
       "    <tr>\n",
       "    </tr>\n",
       "</table>"
      ],
      "text/plain": [
       "[]"
      ]
     },
     "execution_count": 103,
     "metadata": {},
     "output_type": "execute_result"
    }
   ],
   "source": [
    "%%cypher\n",
    "MATCH (a:Accused),(c:Case)\n",
    "WHERE a.AccusedRef = c.AccusedRef\n",
    "CREATE (a)-[r:WasAccusedInCase]->(c)"
   ]
  },
  {
   "cell_type": "code",
   "execution_count": 104,
   "metadata": {
    "collapsed": false
   },
   "outputs": [],
   "source": [
    "!cp /home/learner/notebooks/data/WDB_Accused_family.txt /usr/share/neo4j/import/."
   ]
  },
  {
   "cell_type": "code",
   "execution_count": 105,
   "metadata": {
    "collapsed": false
   },
   "outputs": [
    {
     "name": "stdout",
     "output_type": "stream",
     "text": [
      "951 labels added.\n",
      "951 nodes created.\n",
      "5603 properties set.\n"
     ]
    },
    {
     "data": {
      "text/html": [
       "<table>\n",
       "    <tr>\n",
       "    </tr>\n",
       "</table>"
      ],
      "text/plain": [
       "[]"
      ]
     },
     "execution_count": 105,
     "metadata": {},
     "output_type": "execute_result"
    }
   ],
   "source": [
    "%%cypher\n",
    "USING PERIODIC COMMIT\n",
    "LOAD CSV FROM \"file:/WDB_Accused_family.txt\" AS row\n",
    "CREATE (:Accused_family { Accused_familyRef: row[0]\n",
    "                        , Surname: row[3]\n",
    "                        , Firstname: row[4]\n",
    "                        , Surname_Firstname: row[3] + \", \" + row[4]\n",
    "                        , Relationship: row[13]\n",
    "                        , AccusedRef: row[14]\n",
    "});"
   ]
  },
  {
   "cell_type": "markdown",
   "metadata": {},
   "source": [
    "## Y las relaciones familiares"
   ]
  },
  {
   "cell_type": "code",
   "execution_count": 106,
   "metadata": {
    "collapsed": false
   },
   "outputs": [
    {
     "name": "stdout",
     "output_type": "stream",
     "text": [
      "0 rows affected.\n"
     ]
    },
    {
     "data": {
      "text/html": [
       "<table>\n",
       "    <tr>\n",
       "    </tr>\n",
       "</table>"
      ],
      "text/plain": [
       "[]"
      ]
     },
     "execution_count": 106,
     "metadata": {},
     "output_type": "execute_result"
    }
   ],
   "source": [
    "%%cypher\n",
    "//Eliminamos relaciones\n",
    "MATCH (a:Accused),(af:Accused_family)\n",
    "MATCH (a)-[r]-(af)\n",
    "DELETE r"
   ]
  },
  {
   "cell_type": "code",
   "execution_count": 107,
   "metadata": {
    "collapsed": false,
    "scrolled": true
   },
   "outputs": [
    {
     "name": "stdout",
     "output_type": "stream",
     "text": [
      "924 properties set.\n",
      "951 relationships created.\n"
     ]
    },
    {
     "data": {
      "text/html": [
       "<table>\n",
       "    <tr>\n",
       "    </tr>\n",
       "</table>"
      ],
      "text/plain": [
       "[]"
      ]
     },
     "execution_count": 107,
     "metadata": {},
     "output_type": "execute_result"
    }
   ],
   "source": [
    "%%cypher\n",
    "MATCH (a:Accused),(af:Accused_family)\n",
    "WHERE a.AccusedRef = af.AccusedRef\n",
    "CREATE (a)<-[r: Relationship { label:af.Relationship } ]-(af)"
   ]
  },
  {
   "cell_type": "markdown",
   "metadata": {},
   "source": [
    "## Acusados con más de 5 familiares"
   ]
  },
  {
   "cell_type": "code",
   "execution_count": 108,
   "metadata": {
    "collapsed": false
   },
   "outputs": [
    {
     "name": "stdout",
     "output_type": "stream",
     "text": [
      "4 rows affected.\n"
     ]
    },
    {
     "data": {
      "text/html": [
       "<table>\n",
       "    <tr>\n",
       "        <th>Accused.FirstName_LastName</th>\n",
       "        <th>Accused.LastName</th>\n",
       "        <th>Accused.AccusedRef</th>\n",
       "    </tr>\n",
       "    <tr>\n",
       "        <td>Annas Erskine</td>\n",
       "        <td>Erskine</td>\n",
       "        <td>A/EGD/142</td>\n",
       "    </tr>\n",
       "    <tr>\n",
       "        <td>Issobell Erskine</td>\n",
       "        <td>Erskine</td>\n",
       "        <td>A/EGD/143</td>\n",
       "    </tr>\n",
       "    <tr>\n",
       "        <td>Margret Jackson</td>\n",
       "        <td>Jackson</td>\n",
       "        <td>A/EGD/1729</td>\n",
       "    </tr>\n",
       "    <tr>\n",
       "        <td>Katherine Wilson</td>\n",
       "        <td>Wilson</td>\n",
       "        <td>A/EGD/1212</td>\n",
       "    </tr>\n",
       "</table>"
      ],
      "text/plain": [
       "[[u'Annas Erskine', u'Erskine', u'A/EGD/142'],\n",
       " [u'Issobell Erskine', u'Erskine', u'A/EGD/143'],\n",
       " [u'Margret Jackson', u'Jackson', u'A/EGD/1729'],\n",
       " [u'Katherine Wilson', u'Wilson', u'A/EGD/1212']]"
      ]
     },
     "execution_count": 108,
     "metadata": {},
     "output_type": "execute_result"
    }
   ],
   "source": [
    "%%cypher\n",
    "MATCH (Accused)<-[Relationship]-(Accused_family)\n",
    "WITH Accused, count(Accused_family) AS Relatives\n",
    "WHERE Relatives > 5\n",
    "RETURN Accused.FirstName_LastName, Accused.LastName, Accused.AccusedRef"
   ]
  },
  {
   "cell_type": "markdown",
   "metadata": {},
   "source": [
    "#### Familiares de Annas Erskine ( A/EGD/142)"
   ]
  },
  {
   "cell_type": "code",
   "execution_count": 109,
   "metadata": {
    "collapsed": false
   },
   "outputs": [
    {
     "name": "stdout",
     "output_type": "stream",
     "text": [
      "28 rows affected.\n"
     ]
    },
    {
     "data": {
      "text/html": [
       "<table>\n",
       "    <tr>\n",
       "        <th>RelationShip</th>\n",
       "    </tr>\n",
       "    <tr>\n",
       "        <td>James Ruchheid is the Son of Katherine Wilson</td>\n",
       "    </tr>\n",
       "    <tr>\n",
       "        <td>John Home is the Son-in-law of Katherine Wilson</td>\n",
       "    </tr>\n",
       "    <tr>\n",
       "        <td>Margaret Wilson is the Sister of Katherine Wilson</td>\n",
       "    </tr>\n",
       "    <tr>\n",
       "        <td>Thomas Ruchheid is the Husband of Katherine Wilson</td>\n",
       "    </tr>\n",
       "    <tr>\n",
       "        <td>Margaret Ruchheid is the Daughter of Katherine Wilson</td>\n",
       "    </tr>\n",
       "    <tr>\n",
       "        <td>Johne Prat is the Brother-in-law of Katherine Wilson</td>\n",
       "    </tr>\n",
       "    <tr>\n",
       "        <td>None</td>\n",
       "    </tr>\n",
       "    <tr>\n",
       "        <td>Robert Erskine is the Brother of Annas Erskine</td>\n",
       "    </tr>\n",
       "    <tr>\n",
       "        <td>Alexnder Erskine is the Nephew of Annas Erskine</td>\n",
       "    </tr>\n",
       "    <tr>\n",
       "        <td>Johnne Erskine is the Nephew of Annas Erskine</td>\n",
       "    </tr>\n",
       "    <tr>\n",
       "        <td>Johnne Erskine is the Father of Annas Erskine</td>\n",
       "    </tr>\n",
       "    <tr>\n",
       "        <td>Helene Erskine is the Sister of Annas Erskine</td>\n",
       "    </tr>\n",
       "    <tr>\n",
       "        <td>Issobell Erskine is the Sister of Annas Erskine</td>\n",
       "    </tr>\n",
       "    <tr>\n",
       "        <td>None</td>\n",
       "    </tr>\n",
       "    <tr>\n",
       "        <td>Robert Erskine is the Brother of Issobell Erskine</td>\n",
       "    </tr>\n",
       "    <tr>\n",
       "        <td>Alexander Erskine is the Nephew of Issobell Erskine</td>\n",
       "    </tr>\n",
       "    <tr>\n",
       "        <td>Johnne Erskine is the Nephew of Issobell Erskine</td>\n",
       "    </tr>\n",
       "    <tr>\n",
       "        <td>Johnne Erskine is the Father of Issobell Erskine</td>\n",
       "    </tr>\n",
       "    <tr>\n",
       "        <td>Annas Erskine is the Sister of Issobell Erskine</td>\n",
       "    </tr>\n",
       "    <tr>\n",
       "        <td>Helene Erskine is the Sister of Issobell Erskine</td>\n",
       "    </tr>\n",
       "    <tr>\n",
       "        <td>None</td>\n",
       "    </tr>\n",
       "    <tr>\n",
       "        <td>Annabell Stewart is the In-law of Margret Jackson</td>\n",
       "    </tr>\n",
       "    <tr>\n",
       "        <td>Hugh Stewart is the In-law of Margret Jackson</td>\n",
       "    </tr>\n",
       "    <tr>\n",
       "        <td>John Stewart is the In-law of Margret Jackson</td>\n",
       "    </tr>\n",
       "    <tr>\n",
       "        <td>John Stewart is the In-law of Margret Jackson</td>\n",
       "    </tr>\n",
       "    <tr>\n",
       "        <td>Jonet Mathie is the In-law of Margret Jackson</td>\n",
       "    </tr>\n",
       "    <tr>\n",
       "        <td>Thomas Stewart is the Husband of Margret Jackson</td>\n",
       "    </tr>\n",
       "    <tr>\n",
       "        <td>None</td>\n",
       "    </tr>\n",
       "</table>"
      ],
      "text/plain": [
       "[[u'James Ruchheid is the Son of Katherine Wilson'],\n",
       " [u'John Home is the Son-in-law of Katherine Wilson'],\n",
       " [u'Margaret Wilson is the Sister of Katherine Wilson'],\n",
       " [u'Thomas Ruchheid is the Husband of Katherine Wilson'],\n",
       " [u'Margaret Ruchheid is the Daughter of Katherine Wilson'],\n",
       " [u'Johne Prat is the Brother-in-law of Katherine Wilson'],\n",
       " [None],\n",
       " [u'Robert Erskine is the Brother of Annas Erskine'],\n",
       " [u'Alexnder Erskine is the Nephew of Annas Erskine'],\n",
       " [u'Johnne Erskine is the Nephew of Annas Erskine'],\n",
       " [u'Johnne Erskine is the Father of Annas Erskine'],\n",
       " [u'Helene Erskine is the Sister of Annas Erskine'],\n",
       " [u'Issobell Erskine is the Sister of Annas Erskine'],\n",
       " [None],\n",
       " [u'Robert Erskine is the Brother of Issobell Erskine'],\n",
       " [u'Alexander Erskine is the Nephew of Issobell Erskine'],\n",
       " [u'Johnne Erskine is the Nephew of Issobell Erskine'],\n",
       " [u'Johnne Erskine is the Father of Issobell Erskine'],\n",
       " [u'Annas Erskine is the Sister of Issobell Erskine'],\n",
       " [u'Helene Erskine is the Sister of Issobell Erskine'],\n",
       " [None],\n",
       " [u'Annabell Stewart is the In-law of Margret Jackson'],\n",
       " [u'Hugh Stewart is the In-law of Margret Jackson'],\n",
       " [u'John Stewart is the In-law of Margret Jackson'],\n",
       " [u'John Stewart is the In-law of Margret Jackson'],\n",
       " [u'Jonet Mathie is the In-law of Margret Jackson'],\n",
       " [u'Thomas Stewart is the Husband of Margret Jackson'],\n",
       " [None]]"
      ]
     },
     "execution_count": 109,
     "metadata": {},
     "output_type": "execute_result"
    }
   ],
   "source": [
    "%%cypher\n",
    "MATCH (Accused)<-[Relationship]-(Accused_family)\n",
    "WHERE Accused.AccusedRef in [ \"A/EGD/142\" , \"A/EGD/143\", \"A/EGD/1212\", \"A/EGD/1729\"]\n",
    "RETURN Accused_family.Firstname + ' ' + Accused_family.Surname + ' is the ' + Accused_family.Relationship\n",
    "    + ' of ' + Accused.FirstName + ' ' + Accused.LastName as RelationShip\n",
    "ORDER BY Accused.AccusedRef"
   ]
  },
  {
   "cell_type": "markdown",
   "metadata": {},
   "source": [
    "## Tratamos de utilizar la potencia de Neo4j para detectar nuevas relaciones interesantes\n",
    "### Añadimos relación entre acusados con el mismo apellido"
   ]
  },
  {
   "cell_type": "code",
   "execution_count": 110,
   "metadata": {
    "collapsed": false,
    "scrolled": true
   },
   "outputs": [
    {
     "name": "stdout",
     "output_type": "stream",
     "text": [
      "924 properties set.\n",
      "951 relationships created.\n"
     ]
    },
    {
     "data": {
      "text/html": [
       "<table>\n",
       "    <tr>\n",
       "    </tr>\n",
       "</table>"
      ],
      "text/plain": [
       "[]"
      ]
     },
     "execution_count": 110,
     "metadata": {},
     "output_type": "execute_result"
    }
   ],
   "source": [
    "%%cypher\n",
    "MATCH (a:Accused),(af:Accused_family)\n",
    "WHERE a.AccusedRef = af.AccusedRef\n",
    "CREATE (a)<-[r: Relationship { label:af.Relationship } ]-(af)"
   ]
  },
  {
   "cell_type": "code",
   "execution_count": 111,
   "metadata": {
    "collapsed": false,
    "scrolled": true
   },
   "outputs": [
    {
     "name": "stdout",
     "output_type": "stream",
     "text": [
      "6030 properties set.\n",
      "6030 relationships created.\n"
     ]
    },
    {
     "data": {
      "text/html": [
       "<table>\n",
       "    <tr>\n",
       "    </tr>\n",
       "</table>"
      ],
      "text/plain": [
       "[]"
      ]
     },
     "execution_count": 111,
     "metadata": {},
     "output_type": "execute_result"
    }
   ],
   "source": [
    "%%cypher\n",
    "MATCH (a:Accused), (b:Accused)\n",
    "WHERE a.LastName = b.LastName\n",
    "  AND a.AccusedRef < b.AccusedRef\n",
    "CREATE (a)-[r1:sameLastname { label:\"same Lastname\" } ]->(b)"
   ]
  },
  {
   "cell_type": "code",
   "execution_count": 117,
   "metadata": {
    "collapsed": false
   },
   "outputs": [
    {
     "data": {
      "text/html": [
       "\n",
       "        <iframe\n",
       "            width=\"100%\"\n",
       "            height=\"400\"\n",
       "            src=\"figures/graph-3707b17b-9cf7-4705-a0e4-4667552e3a16.html\"\n",
       "            frameborder=\"0\"\n",
       "            allowfullscreen\n",
       "        ></iframe>\n",
       "        "
      ],
      "text/plain": [
       "<IPython.lib.display.IFrame at 0x7f5cb0158a90>"
      ]
     },
     "execution_count": 117,
     "metadata": {},
     "output_type": "execute_result"
    }
   ],
   "source": [
    "from scripts.vis import draw\n",
    "\n",
    "options = { \"Accused\": \"FirstName_LastName\"\n",
    "          , \"Accused_family\": \"Surname_Firstname\"\n",
    "          , \"Case\": \"CaseRef\"\n",
    "          }\n",
    "\n",
    "draw(graph, options, physics=True, limit=256)"
   ]
  },
  {
   "cell_type": "markdown",
   "metadata": {},
   "source": [
    "### Haciendo un poco de zoom podemos ver que destacan los apellidos *Young*, *Stewart*, *Anderson* y *Hunter*\n",
    "### Detectamos también que hay muchos casos sin relación con acusados (nodos amarillos sin conexión)"
   ]
  },
  {
   "cell_type": "markdown",
   "metadata": {},
   "source": [
    "#### A continuación un esquema con las entidades y relaciones utilizadas en el ejercicio\n",
    "<img src=\"http://localhost:8001/files/SWP-ScotWitchProject/images/Neo4j.png\">"
   ]
  },
  {
   "cell_type": "markdown",
   "metadata": {},
   "source": [
    "### Conclusión:\n",
    "### Considero que Neo4j puede aportar mucho en este dataset a la hora de detectar nuevas relaciones entre los datos más allá de las identificadas y reflejadas en el modelado original en MS Access.\n",
    "### La del parentesco es un ejemplo, pero se me ocurren muchas más que espero continuar en algún momento para la publicación del trabajo:\n",
    "* Estados por los que pasa un acusado, desde la denuncia hasta la aplicación de la sentencia.  \n",
    "* Se podría incluir información geográfica para obtener el itinerario delacusado en el mapa. Por ejemplo, si la residencia del acusado no es la misma en la que se realizó el juicio implica un traslado.\n",
    "* Identificar relaciones entre los intervinientes en los juicios. Podrían identificarse denuncias orquestadas contra una determinada persona o familia."
   ]
  }
 ],
 "metadata": {
  "kernelspec": {
   "display_name": "Python 2",
   "language": "python",
   "name": "python2"
  },
  "language_info": {
   "codemirror_mode": {
    "name": "ipython",
    "version": 2
   },
   "file_extension": ".py",
   "mimetype": "text/x-python",
   "name": "python",
   "nbconvert_exporter": "python",
   "pygments_lexer": "ipython2",
   "version": "2.7.6"
  }
 },
 "nbformat": 4,
 "nbformat_minor": 0
}
