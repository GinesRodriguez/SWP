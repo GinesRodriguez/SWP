{
 "cells": [
  {
   "cell_type": "markdown",
   "metadata": {},
   "source": [
    "# Insertando datos de WDB en Cassandra\n",
    "\n",
    "![png](http://cdn.albertcoronado.com/wp-content/uploads/2014/08/cassandra_logo.png)"
   ]
  },
  {
   "cell_type": "markdown",
   "metadata": {},
   "source": [
    "## Creacción del KeySpace"
   ]
  },
  {
   "cell_type": "code",
   "execution_count": 782,
   "metadata": {
    "collapsed": false
   },
   "outputs": [
    {
     "name": "stdout",
     "output_type": "stream",
     "text": [
      "The cql extension is already loaded. To reload it, use:\n",
      "  %reload_ext cql\n"
     ]
    }
   ],
   "source": [
    "%load_ext cql"
   ]
  },
  {
   "cell_type": "code",
   "execution_count": 783,
   "metadata": {
    "collapsed": false
   },
   "outputs": [
    {
     "data": {
      "text/plain": [
       "'No results.'"
      ]
     },
     "execution_count": 783,
     "metadata": {},
     "output_type": "execute_result"
    }
   ],
   "source": [
    "%%cql\n",
    "DROP KEYSPACE \"SWP\";"
   ]
  },
  {
   "cell_type": "code",
   "execution_count": 784,
   "metadata": {
    "collapsed": false
   },
   "outputs": [
    {
     "data": {
      "text/plain": [
       "'No results.'"
      ]
     },
     "execution_count": 784,
     "metadata": {},
     "output_type": "execute_result"
    }
   ],
   "source": [
    "%%cql\n",
    "CREATE KEYSPACE \"SWP\"\n",
    "WITH replication = {'class':'SimpleStrategy', 'replication_factor': 1};"
   ]
  },
  {
   "cell_type": "markdown",
   "metadata": {},
   "source": [
    "## Uso del KeySpace\n",
    "\n",
    "Se utiliza USE para cambiar el keyspace por defecto\n"
   ]
  },
  {
   "cell_type": "code",
   "execution_count": 785,
   "metadata": {
    "collapsed": false
   },
   "outputs": [
    {
     "data": {
      "text/plain": [
       "'No results.'"
      ]
     },
     "execution_count": 785,
     "metadata": {},
     "output_type": "execute_result"
    }
   ],
   "source": [
    "%cql USE \"SWP\";"
   ]
  },
  {
   "cell_type": "markdown",
   "metadata": {
    "collapsed": true
   },
   "source": [
    "## Creacción de tablas\n",
    "\n",
    "* Los Keyspaces contienen tablas\n",
    "* Las tablas contienen datos"
   ]
  },
  {
   "cell_type": "code",
   "execution_count": 786,
   "metadata": {
    "collapsed": false
   },
   "outputs": [
    {
     "data": {
      "text/plain": [
       "'No results.'"
      ]
     },
     "execution_count": 786,
     "metadata": {},
     "output_type": "execute_result"
    }
   ],
   "source": [
    "%%cql\n",
    "CREATE TABLE \"Accused\"\n",
    "(\n",
    "    \"AccusedRef\" text,\n",
    "    \"Age\" int,\n",
    "    PRIMARY KEY (\"AccusedRef\")\n",
    ");"
   ]
  },
  {
   "cell_type": "code",
   "execution_count": 787,
   "metadata": {
    "collapsed": false
   },
   "outputs": [],
   "source": [
    "from cassandra.cluster import Cluster, BatchStatement, ConsistencyLevel\n",
    "cluster = Cluster()\n",
    "session = cluster.connect('SWP')"
   ]
  },
  {
   "cell_type": "code",
   "execution_count": 788,
   "metadata": {
    "collapsed": false
   },
   "outputs": [
    {
     "name": "stdout",
     "output_type": "stream",
     "text": [
      "Accused 0\n"
     ]
    },
    {
     "name": "stderr",
     "output_type": "stream",
     "text": [
      "WARNING:cassandra.protocol:Server warning: Aggregation query used without partition key\n"
     ]
    }
   ],
   "source": [
    "print \"Accused\", session.execute(\"SELECT count(1) FROM \\\"Accused\\\" WHERE \\\"Age\\\" = 0 ALLOW FILTERING\")[0].count"
   ]
  },
  {
   "cell_type": "code",
   "execution_count": 789,
   "metadata": {
    "collapsed": false
   },
   "outputs": [
    {
     "name": "stdout",
     "output_type": "stream",
     "text": [
      "Accused 0\n"
     ]
    },
    {
     "name": "stderr",
     "output_type": "stream",
     "text": [
      "WARNING:cassandra.protocol:Server warning: Aggregation query used without partition key\n"
     ]
    }
   ],
   "source": [
    "print \"Accused\", session.execute(\"SELECT count(*) from \\\"Accused\\\" WHERE \\\"Age\\\" = 50 ALLOW FILTERING\")[0].count"
   ]
  },
  {
   "cell_type": "markdown",
   "metadata": {},
   "source": [
    "## Inserción de la información"
   ]
  },
  {
   "cell_type": "code",
   "execution_count": 790,
   "metadata": {
    "collapsed": false
   },
   "outputs": [],
   "source": [
    "from cassandra.cluster import Cluster, BatchStatement, ConsistencyLevel\n",
    "cluster = Cluster()\n",
    "session = cluster.connect('SWP')"
   ]
  },
  {
   "cell_type": "code",
   "execution_count": 792,
   "metadata": {
    "collapsed": false
   },
   "outputs": [
    {
     "name": "stdout",
     "output_type": "stream",
     "text": [
      "A/EGD/1005|50\n",
      "A/EGD/1014|42\n",
      "A/EGD/1018|43\n",
      "A/EGD/1022|25\n",
      "A/EGD/1023|50\n",
      "A/EGD/1047|50\n",
      "A/EGD/1082|75\n",
      "A/EGD/1132|50\n",
      "A/EGD/1143|50\n",
      "A/EGD/1153|50\n",
      "166 /home/learner/notebooks/data/WDB_Accused_loadCassandra.txt\n"
     ]
    }
   ],
   "source": [
    "# Seleccionamos registros con campo edad informado\n",
    "\n",
    "!cat /home/learner/notebooks/data/WDB_Accused.txt      \\\n",
    "    | perl -pe 's/^(\\r\\n)//g'                          \\\n",
    "    | perl -pe 's/([^:]..)\\r\\n/\\1\\\\r\\\\n/g'             \\\n",
    "    | sed -e ':a;s/^\\(\\(\"[^\"]*\"\\|[^\",]*\\)*\\),/\\1|/;ta' \\\n",
    "    | cut -d \"|\" -f 1,12 | sed 's/\"//g'                \\\n",
    "    | sed -e '/|$/d'                                   \\\n",
    "    > /home/learner/notebooks/data/WDB_Accused_loadCassandra.txt\n",
    "\n",
    "#    | perl -pe 's/^(\\r\\n)//g' \\                          # Delete lines whith return alone\n",
    "#    | perl -pe 's/([^:]..)\\r\\n/\\1\\\\r\\\\n/g' \\             # Delete return whith third char to the left not :\n",
    "#    | sed -e ':a;s/^\\(\\(\"[^\"]*\"\\|[^\",]*\\)*\\),/\\1|/;ta' \\ # Replace delimiter , with | (not between \"\")\n",
    "#    | cut -d \"|\" -f 1,12 | sed 's/\"//g' \\                # Select fields 1 (key) and 12 (Age)\n",
    "#    | sed -e '/|$/d' \\                                   # Filter line with Age not informed\n",
    "\n",
    "!head /home/learner/notebooks/data/WDB_Accused_loadCassandra.txt\n",
    "!wc -l /home/learner/notebooks/data/WDB_Accused_loadCassandra.txt"
   ]
  },
  {
   "cell_type": "code",
   "execution_count": 793,
   "metadata": {
    "collapsed": false
   },
   "outputs": [],
   "source": [
    "def insert_Accused(WDB_Accused_csvLine):\n",
    "\n",
    "    AccusedRef = WDB_Accused_csvLine.split(\"|\")[0]\n",
    "    Age = int(WDB_Accused_csvLine.split(\"|\")[1])\n",
    "    \n",
    "    session.execute(\n",
    "\"\"\"\n",
    "INSERT INTO \\\"Accused\\\" (\n",
    "\\\"AccusedRef\\\",\n",
    "\\\"Age\\\"\n",
    ") VALUES (\n",
    "%s,\n",
    "%s\n",
    ")\n",
    "\"\"\"\n",
    "    , [\n",
    "        AccusedRef,\n",
    "        Age\n",
    "    ])\n",
    "    "
   ]
  },
  {
   "cell_type": "code",
   "execution_count": 794,
   "metadata": {
    "collapsed": false
   },
   "outputs": [],
   "source": [
    "import csv\n",
    "from pprintpp import pprint as pp\n",
    "import sys\n",
    "\n",
    "WDB_Accused_data_path = '/home/learner/notebooks/data/WDB_Accused_loadCassandra.txt'\n",
    "\n",
    "WDB_Accused_file = open(WDB_Accused_data_path, \"r\")\n",
    "\n",
    "for line in WDB_Accused_file:\n",
    "    insert_Accused(line)"
   ]
  },
  {
   "cell_type": "markdown",
   "metadata": {},
   "source": [
    "## Querys"
   ]
  },
  {
   "cell_type": "code",
   "execution_count": 795,
   "metadata": {
    "collapsed": false
   },
   "outputs": [
    {
     "name": "stdout",
     "output_type": "stream",
     "text": [
      "Accused Row(AccusedRef=u'A/EGD/683', Age=53)\n",
      "Accused Row(AccusedRef=u'A/EGD/1721', Age=25)\n"
     ]
    }
   ],
   "source": [
    "print \"Accused\", session.execute(\"SELECT * from \\\"Accused\\\"\")[0]\n",
    "print \"Accused\", session.execute(\"SELECT * from \\\"Accused\\\"\")[1]"
   ]
  },
  {
   "cell_type": "markdown",
   "metadata": {},
   "source": [
    "## Query by Age"
   ]
  },
  {
   "cell_type": "code",
   "execution_count": 796,
   "metadata": {
    "collapsed": false
   },
   "outputs": [
    {
     "data": {
      "text/plain": [
       "'No results.'"
      ]
     },
     "execution_count": 796,
     "metadata": {},
     "output_type": "execute_result"
    }
   ],
   "source": [
    "%%cql\n",
    "CREATE INDEX Accused_Age\n",
    "   ON \"Accused\" (\"Age\");"
   ]
  },
  {
   "cell_type": "code",
   "execution_count": 801,
   "metadata": {
    "collapsed": false
   },
   "outputs": [
    {
     "name": "stderr",
     "output_type": "stream",
     "text": [
      "WARNING:cassandra.protocol:Server warning: Aggregation query used without partition key\n"
     ]
    },
    {
     "data": {
      "text/html": [
       "<table>\n",
       "    <tr>\n",
       "        <th>Age</th>\n",
       "        <th>count</th>\n",
       "    </tr>\n",
       "    <tr>\n",
       "        <td>50</td>\n",
       "        <td>36</td>\n",
       "    </tr>\n",
       "</table>"
      ],
      "text/plain": [
       "+-----+-------+\n",
       "| Age | count |\n",
       "+-----+-------+\n",
       "|  50 |   36  |\n",
       "+-----+-------+"
      ]
     },
     "execution_count": 801,
     "metadata": {},
     "output_type": "execute_result"
    }
   ],
   "source": [
    "%%cql\n",
    "SELECT \"Age\", count(1) from \"Accused\" WHERE \"Age\" = 50 ALLOW FILTERING;"
   ]
  },
  {
   "cell_type": "markdown",
   "metadata": {},
   "source": [
    "#### ***La instrucción anterior puede dar error si se ejecuta sin pausa, debido a que aún no se ha consolidado la información\n"
   ]
  },
  {
   "cell_type": "markdown",
   "metadata": {},
   "source": [
    "#### Para obtener una distribución de acusados por edad, tenemos que recorrernos todas las edades agrupándolas en una estructura. Algo parecido a esto:"
   ]
  },
  {
   "cell_type": "code",
   "execution_count": 802,
   "metadata": {
    "collapsed": false
   },
   "outputs": [
    {
     "name": "stdout",
     "output_type": "stream",
     "text": [
      "50 years old:  36 Accuseds.\n",
      "45 years old:  12 Accuseds.\n",
      "25 years old:  7 Accuseds.\n",
      "55 years old:  7 Accuseds.\n",
      "60 years old:  6 Accuseds.\n",
      "39 years old:  6 Accuseds.\n",
      "30 years old:  5 Accuseds.\n",
      "36 years old:  5 Accuseds.\n",
      "43 years old:  5 Accuseds.\n"
     ]
    },
    {
     "name": "stderr",
     "output_type": "stream",
     "text": [
      "WARNING:cassandra.protocol:Server warning: Aggregation query used without partition key\n",
      "WARNING:cassandra.protocol:Server warning: Aggregation query used without partition key\n",
      "WARNING:cassandra.protocol:Server warning: Aggregation query used without partition key\n",
      "WARNING:cassandra.protocol:Server warning: Aggregation query used without partition key\n",
      "WARNING:cassandra.protocol:Server warning: Aggregation query used without partition key\n",
      "WARNING:cassandra.protocol:Server warning: Aggregation query used without partition key\n",
      "WARNING:cassandra.protocol:Server warning: Aggregation query used without partition key\n",
      "WARNING:cassandra.protocol:Server warning: Aggregation query used without partition key\n",
      "WARNING:cassandra.protocol:Server warning: Aggregation query used without partition key\n"
     ]
    }
   ],
   "source": [
    "print \"50 years old: \", session.execute(\"SELECT count(*) from \\\"Accused\\\" WHERE \\\"Age\\\" = 50 ALLOW FILTERING\")[0].count, \"Accuseds.\"\n",
    "print \"45 years old: \", session.execute(\"SELECT count(*) from \\\"Accused\\\" WHERE \\\"Age\\\" = 45 ALLOW FILTERING\")[0].count, \"Accuseds.\"\n",
    "print \"25 years old: \", session.execute(\"SELECT count(*) from \\\"Accused\\\" WHERE \\\"Age\\\" = 25 ALLOW FILTERING\")[0].count, \"Accuseds.\"\n",
    "print \"55 years old: \", session.execute(\"SELECT count(*) from \\\"Accused\\\" WHERE \\\"Age\\\" = 55 ALLOW FILTERING\")[0].count, \"Accuseds.\"\n",
    "print \"60 years old: \", session.execute(\"SELECT count(*) from \\\"Accused\\\" WHERE \\\"Age\\\" = 60 ALLOW FILTERING\")[0].count, \"Accuseds.\"\n",
    "print \"39 years old: \", session.execute(\"SELECT count(*) from \\\"Accused\\\" WHERE \\\"Age\\\" = 39 ALLOW FILTERING\")[0].count, \"Accuseds.\"\n",
    "print \"30 years old: \", session.execute(\"SELECT count(*) from \\\"Accused\\\" WHERE \\\"Age\\\" = 30 ALLOW FILTERING\")[0].count, \"Accuseds.\"\n",
    "print \"36 years old: \", session.execute(\"SELECT count(*) from \\\"Accused\\\" WHERE \\\"Age\\\" = 36 ALLOW FILTERING\")[0].count, \"Accuseds.\"\n",
    "print \"43 years old: \", session.execute(\"SELECT count(*) from \\\"Accused\\\" WHERE \\\"Age\\\" = 43 ALLOW FILTERING\")[0].count, \"Accuseds.\""
   ]
  },
  {
   "cell_type": "markdown",
   "metadata": {},
   "source": [
    "#### Dado que en Cassandra no disponemos de funciones de agrupación, exploraremos el dominio de edades almacenando el resultado para tratarlo por código.\n",
    "\n",
    "#### Pero ántes definiremos unas vistas materializadas para evitar problemas de rendimiento,que el índice no soluciona por tratarse de campos con poca cardinalidad."
   ]
  },
  {
   "cell_type": "markdown",
   "metadata": {},
   "source": [
    "# Vistas materializadas\n",
    "#### Podemos evitar los warnings definiendo vistas materializadas cuya organización permita un acceso eficiente a los datos que queremos consultar"
   ]
  },
  {
   "cell_type": "markdown",
   "metadata": {},
   "source": [
    "#### Borrado de la vista materializada si existiera por ejecucuiones anteriores."
   ]
  },
  {
   "cell_type": "markdown",
   "metadata": {},
   "source": [
    "%%cql\n",
    "DROP MATERIALIZED VIEW \"Accused_Age\"\n"
   ]
  },
  {
   "cell_type": "code",
   "execution_count": 805,
   "metadata": {
    "collapsed": false
   },
   "outputs": [
    {
     "data": {
      "text/plain": [
       "'No results.'"
      ]
     },
     "execution_count": 805,
     "metadata": {},
     "output_type": "execute_result"
    }
   ],
   "source": [
    "%%cql\n",
    "CREATE MATERIALIZED VIEW \"Accused_Age\" AS\n",
    "       SELECT \"AccusedRef\", \"Age\" FROM \"Accused\"\n",
    "       WHERE \"Age\" IS NOT NULL\n",
    "       PRIMARY KEY (\"Age\",\"AccusedRef\")\n",
    "    ;"
   ]
  },
  {
   "cell_type": "markdown",
   "metadata": {},
   "source": [
    "#### Incluimos los conteos por edad en un array de numpy"
   ]
  },
  {
   "cell_type": "code",
   "execution_count": 806,
   "metadata": {
    "collapsed": false
   },
   "outputs": [],
   "source": [
    "import numpy as np\n",
    "\n",
    "acussedsByAge = np.zeros((100,2), dtype=[('age',int),('count',int)] )\n",
    "\n",
    "for age in range(101):\n",
    "    acussedsByAge[age-1]['age'] = age\n",
    "    acussedsByAge[age-1]['count'] = session.execute(\"SELECT count(*) from \\\"Accused_Age\\\" WHERE \\\"Age\\\" =\" + str(age) + \" ALLOW FILTERING\")[0].count\n"
   ]
  },
  {
   "cell_type": "markdown",
   "metadata": {},
   "source": [
    "#### Ahora lo ordenamos y mostramos las edades más frecuentes"
   ]
  },
  {
   "cell_type": "code",
   "execution_count": 807,
   "metadata": {
    "collapsed": false
   },
   "outputs": [
    {
     "name": "stdout",
     "output_type": "stream",
     "text": [
      "50 years old:  31 Accuseds.\n",
      "45 years old:  12 Accuseds.\n",
      "60 years old:  6 Accuseds.\n",
      "55 years old:  6 Accuseds.\n",
      "43 years old:  5 Accuseds.\n"
     ]
    }
   ],
   "source": [
    "acussedsByAgeReverseOrder = np.sort ( acussedsByAge , axis = 0 , order = ['count'] )[::-1]\n",
    "for item in acussedsByAgeReverseOrder:\n",
    "    if item[\"count\"][0] < 5:\n",
    "        break\n",
    "    print item[\"age\"][0], \"years old: \", item[\"count\"][0] , \"Accuseds.\""
   ]
  },
  {
   "cell_type": "markdown",
   "metadata": {},
   "source": [
    "#### Vamos a añadir la columna de género"
   ]
  },
  {
   "cell_type": "code",
   "execution_count": 808,
   "metadata": {
    "collapsed": false
   },
   "outputs": [
    {
     "name": "stdout",
     "output_type": "stream",
     "text": [
      "A/EGD/10|Female|\n",
      "A/EGD/100|Male|\n",
      "A/EGD/1000|Female|\n",
      "A/EGD/1001|Female|\n",
      "A/EGD/1002|Female|\n",
      "A/EGD/1003|Female|\n",
      "A/EGD/1004|Female|\n",
      "A/EGD/1005|Female|\n",
      "A/EGD/1006|Female|\n",
      "A/EGD/1007|Female|\n",
      "3170 /home/learner/notebooks/data/WDB_Accused_loadCassandra_Sex.txt\n"
     ]
    }
   ],
   "source": [
    "# Seleccionamos registros con campo sexo informado\n",
    "\n",
    "!cat /home/learner/notebooks/data/WDB_Accused.txt     \\\n",
    "    | perl -pe 's/^(\\r\\n)//g'                          \\\n",
    "    | perl -pe 's/([^:]..)\\r\\n/\\1\\\\r\\\\n/g'             \\\n",
    "    | sed -e ':a;s/^\\(\\(\"[^\"]*\"\\|[^\",]*\\)*\\),/\\1|/;ta' \\\n",
    "    | cut -d \"|\" -f 1,11 | sed 's/\"//g'             \\\n",
    "    | sed -e '/|$/d'                                   \\\n",
    "    | sed 's/$/|/' \\\n",
    "    > /home/learner/notebooks/data/WDB_Accused_loadCassandra_Sex.txt\n",
    "\n",
    "#    | perl -pe 's/^(\\r\\n)//g' \\                          # Delete lines whith return alone\n",
    "#    | perl -pe 's/([^:]..)\\r\\n/\\1\\\\r\\\\n/g' \\             # Delete return whith third char to the left not :\n",
    "#    | sed -e ':a;s/^\\(\\(\"[^\"]*\"\\|[^\",]*\\)*\\),/\\1|/;ta' \\ # Replace delimiter , with | (not between \"\")\n",
    "#    | cut -d \"|\" -f 1,12 | sed 's/\"//g' \\                # Select fields 1 (key) and 12 (Age)\n",
    "#    | sed -e '/|$/d' \\                                   # Filter line with Age not informed\n",
    "\n",
    "!head /home/learner/notebooks/data/WDB_Accused_loadCassandra_Sex.txt\n",
    "!wc -l /home/learner/notebooks/data/WDB_Accused_loadCassandra_Sex.txt"
   ]
  },
  {
   "cell_type": "markdown",
   "metadata": {},
   "source": [
    "#### Añadimos la columna **Sex**"
   ]
  },
  {
   "cell_type": "code",
   "execution_count": 809,
   "metadata": {
    "collapsed": false
   },
   "outputs": [
    {
     "data": {
      "text/plain": [
       "'No results.'"
      ]
     },
     "execution_count": 809,
     "metadata": {},
     "output_type": "execute_result"
    }
   ],
   "source": [
    "%%cql\n",
    "ALTER TABLE \"SWP\".\"Accused\" ADD \"Sex\" ascii;"
   ]
  },
  {
   "cell_type": "markdown",
   "metadata": {},
   "source": [
    "#### Esta función nos permitirá añadir la columna para una determinada clave *AccusedRef*"
   ]
  },
  {
   "cell_type": "code",
   "execution_count": 810,
   "metadata": {
    "collapsed": false
   },
   "outputs": [],
   "source": [
    "def load_Accused_sex(AccusedRef,Sex):\n",
    "\n",
    "    session.execute(\n",
    "\"\"\"\n",
    "INSERT INTO \\\"Accused\\\" (\n",
    "\\\"AccusedRef\\\",\n",
    "\\\"Sex\\\"\n",
    ") VALUES (\n",
    "%s,\n",
    "%s\n",
    ")\n",
    "\"\"\"\n",
    "    , [\n",
    "        AccusedRef,\n",
    "        Sex\n",
    "    ])"
   ]
  },
  {
   "cell_type": "markdown",
   "metadata": {},
   "source": [
    "#### Cargamos los registros que tienen el género informado."
   ]
  },
  {
   "cell_type": "code",
   "execution_count": 811,
   "metadata": {
    "collapsed": false
   },
   "outputs": [
    {
     "name": "stdout",
     "output_type": "stream",
     "text": [
      "Loading 3170 of 3170 \n",
      "3170 records loaded.\n"
     ]
    }
   ],
   "source": [
    "import csv\n",
    "from pprintpp import pprint as pp\n",
    "import sys\n",
    "\n",
    "WDB_Accused_Sex_data_path = '/home/learner/notebooks/data/WDB_Accused_loadCassandra_Sex.txt'\n",
    "\n",
    "WDB_Accused_Sex_file = open(WDB_Accused_Sex_data_path, \"r\")\n",
    "\n",
    "sRegs = !wc -l /home/learner/notebooks/data/WDB_Accused_loadCassandra_Sex.txt | cut -d \" \" -f1\n",
    "nRegs = map(int, sRegs)\n",
    "i = 0\n",
    "\n",
    "for line in WDB_Accused_Sex_file:\n",
    "    i = i + 1\n",
    "    load_Accused_sex(line.split(\"|\")[0],line.split(\"|\")[1])\n",
    "    print \"\\rLoading\",i,\"of\",nRegs[0],\n",
    "\n",
    "print \"\\n\",i,\"records loaded.\""
   ]
  },
  {
   "cell_type": "code",
   "execution_count": 812,
   "metadata": {
    "collapsed": false
   },
   "outputs": [
    {
     "name": "stdout",
     "output_type": "stream",
     "text": [
      "Male:  468 Accuseds.\n",
      "Female:  2702 Accuseds.\n"
     ]
    },
    {
     "name": "stderr",
     "output_type": "stream",
     "text": [
      "WARNING:cassandra.protocol:Server warning: Aggregation query used without partition key\n",
      "WARNING:cassandra.protocol:Server warning: Aggregation query used without partition key\n"
     ]
    }
   ],
   "source": [
    "print \"Male: \", session.execute(\"SELECT count(*) from \\\"Accused\\\" WHERE \\\"Sex\\\" = 'Male' ALLOW FILTERING\")[0].count, \"Accuseds.\"\n",
    "print \"Female: \", session.execute(\"SELECT count(*) from \\\"Accused\\\" WHERE \\\"Sex\\\" = 'Female' ALLOW FILTERING\")[0].count, \"Accuseds.\"\n"
   ]
  },
  {
   "cell_type": "code",
   "execution_count": 813,
   "metadata": {
    "collapsed": false
   },
   "outputs": [
    {
     "data": {
      "text/html": [
       "<table>\n",
       "    <tr>\n",
       "        <th>AccusedRef</th>\n",
       "        <th>Age</th>\n",
       "        <th>Sex</th>\n",
       "    </tr>\n",
       "    <tr>\n",
       "        <td>A/EGD/2291</td>\n",
       "        <td>None</td>\n",
       "        <td>Female</td>\n",
       "    </tr>\n",
       "    <tr>\n",
       "        <td>A/EGD/683</td>\n",
       "        <td>53</td>\n",
       "        <td>Female</td>\n",
       "    </tr>\n",
       "    <tr>\n",
       "        <td>A/EGD/598</td>\n",
       "        <td>None</td>\n",
       "        <td>Female</td>\n",
       "    </tr>\n",
       "    <tr>\n",
       "        <td>A/EGD/1391</td>\n",
       "        <td>None</td>\n",
       "        <td>Female</td>\n",
       "    </tr>\n",
       "    <tr>\n",
       "        <td>A/EGD/2280</td>\n",
       "        <td>None</td>\n",
       "        <td>Female</td>\n",
       "    </tr>\n",
       "    <tr>\n",
       "        <td>A/EGD/1721</td>\n",
       "        <td>25</td>\n",
       "        <td>Female</td>\n",
       "    </tr>\n",
       "    <tr>\n",
       "        <td>A/JO/2694</td>\n",
       "        <td>None</td>\n",
       "        <td>Female</td>\n",
       "    </tr>\n",
       "    <tr>\n",
       "        <td>A/EGD/869</td>\n",
       "        <td>None</td>\n",
       "        <td>Female</td>\n",
       "    </tr>\n",
       "</table>"
      ],
      "text/plain": [
       "+------------+------+--------+\n",
       "| AccusedRef | Age  |  Sex   |\n",
       "+------------+------+--------+\n",
       "| A/EGD/2291 | None | Female |\n",
       "| A/EGD/683  |  53  | Female |\n",
       "| A/EGD/598  | None | Female |\n",
       "| A/EGD/1391 | None | Female |\n",
       "| A/EGD/2280 | None | Female |\n",
       "| A/EGD/1721 |  25  | Female |\n",
       "| A/JO/2694  | None | Female |\n",
       "| A/EGD/869  | None | Female |\n",
       "+------------+------+--------+"
      ]
     },
     "execution_count": 813,
     "metadata": {},
     "output_type": "execute_result"
    }
   ],
   "source": [
    "%%cql\n",
    "SELECT * FROM \"Accused\" WHERE \"Sex\" = 'Female' LIMIT 8 ALLOW FILTERING;"
   ]
  },
  {
   "cell_type": "code",
   "execution_count": 814,
   "metadata": {
    "collapsed": false
   },
   "outputs": [
    {
     "data": {
      "text/html": [
       "<table>\n",
       "    <tr>\n",
       "        <th>AccusedRef</th>\n",
       "        <th>Age</th>\n",
       "        <th>Sex</th>\n",
       "    </tr>\n",
       "    <tr>\n",
       "        <td>A/EGD/10</td>\n",
       "        <td>None</td>\n",
       "        <td>Female</td>\n",
       "    </tr>\n",
       "    <tr>\n",
       "        <td>A/EGD/1005</td>\n",
       "        <td>50</td>\n",
       "        <td>Female</td>\n",
       "    </tr>\n",
       "</table>"
      ],
      "text/plain": [
       "+------------+------+--------+\n",
       "| AccusedRef | Age  |  Sex   |\n",
       "+------------+------+--------+\n",
       "|  A/EGD/10  | None | Female |\n",
       "| A/EGD/1005 |  50  | Female |\n",
       "+------------+------+--------+"
      ]
     },
     "execution_count": 814,
     "metadata": {},
     "output_type": "execute_result"
    }
   ],
   "source": [
    "%%cql\n",
    "SELECT * from \"Accused\" WHERE \"AccusedRef\" IN ('A/EGD/10','A/EGD/1005');"
   ]
  },
  {
   "cell_type": "code",
   "execution_count": 815,
   "metadata": {
    "collapsed": false
   },
   "outputs": [
    {
     "data": {
      "text/plain": [
       "'No results.'"
      ]
     },
     "execution_count": 815,
     "metadata": {},
     "output_type": "execute_result"
    }
   ],
   "source": [
    "%%cql\n",
    "CREATE INDEX Accused_Sex_idx\n",
    "   ON \"Accused\" (\"Sex\");"
   ]
  },
  {
   "cell_type": "code",
   "execution_count": 817,
   "metadata": {
    "collapsed": false
   },
   "outputs": [
    {
     "name": "stdout",
     "output_type": "stream",
     "text": [
      " Male:  468 Accuseds.\n",
      "Female:  2702 Accuseds.\n"
     ]
    },
    {
     "name": "stderr",
     "output_type": "stream",
     "text": [
      "WARNING:cassandra.protocol:Server warning: Aggregation query used without partition key\n",
      "WARNING:cassandra.protocol:Server warning: Aggregation query used without partition key\n"
     ]
    }
   ],
   "source": [
    "print \"Male: \", session.execute(\"SELECT count(*) from \\\"Accused\\\" WHERE \\\"Sex\\\" = 'Male' ALLOW FILTERING\")[0].count, \"Accuseds.\"\n",
    "print \"Female: \", session.execute(\"SELECT count(*) from \\\"Accused\\\" WHERE \\\"Sex\\\" = 'Female' ALLOW FILTERING\")[0].count, \"Accuseds.\""
   ]
  },
  {
   "cell_type": "markdown",
   "metadata": {},
   "source": [
    "#### Para evitar problemas de rendimiento, las vistas materializadas son una mejor solución cuando el campo sobre el que queremos filtrar no es discriminante (categórico)"
   ]
  },
  {
   "cell_type": "markdown",
   "metadata": {},
   "source": [
    "%%cql\n",
    "DROP MATERIALIZED VIEW \"Accused_Sex\";"
   ]
  },
  {
   "cell_type": "code",
   "execution_count": 819,
   "metadata": {
    "collapsed": false
   },
   "outputs": [
    {
     "data": {
      "text/plain": [
       "'No results.'"
      ]
     },
     "execution_count": 819,
     "metadata": {},
     "output_type": "execute_result"
    }
   ],
   "source": [
    "%%cql\n",
    "CREATE MATERIALIZED VIEW \"Accused_Sex\" AS\n",
    "       SELECT \"AccusedRef\", \"Sex\" FROM \"Accused\"\n",
    "       WHERE \"Sex\" IS NOT NULL\n",
    "       PRIMARY KEY (\"Sex\",\"AccusedRef\")\n",
    "       WITH CLUSTERING ORDER BY (\"Sex\" DESC)\n",
    "    ;"
   ]
  },
  {
   "cell_type": "markdown",
   "metadata": {},
   "source": [
    "#### Las mismas consultas, pero a partir de las vistas materializadas"
   ]
  },
  {
   "cell_type": "code",
   "execution_count": 820,
   "metadata": {
    "collapsed": false
   },
   "outputs": [
    {
     "data": {
      "text/html": [
       "<table>\n",
       "    <tr>\n",
       "        <th>Sex</th>\n",
       "        <th>count</th>\n",
       "    </tr>\n",
       "    <tr>\n",
       "        <td>Male</td>\n",
       "        <td>11</td>\n",
       "    </tr>\n",
       "</table>"
      ],
      "text/plain": [
       "+------+-------+\n",
       "| Sex  | count |\n",
       "+------+-------+\n",
       "| Male |   11  |\n",
       "+------+-------+"
      ]
     },
     "execution_count": 820,
     "metadata": {},
     "output_type": "execute_result"
    }
   ],
   "source": [
    "%%cql\n",
    "SELECT \"Sex\", count(1) FROM \"Accused_Sex\" WHERE \"Sex\" = 'Male';"
   ]
  },
  {
   "cell_type": "code",
   "execution_count": 821,
   "metadata": {
    "collapsed": false
   },
   "outputs": [
    {
     "data": {
      "text/html": [
       "<table>\n",
       "    <tr>\n",
       "        <th>Sex</th>\n",
       "        <th>count</th>\n",
       "    </tr>\n",
       "    <tr>\n",
       "        <td>Female</td>\n",
       "        <td>220</td>\n",
       "    </tr>\n",
       "</table>"
      ],
      "text/plain": [
       "+--------+-------+\n",
       "|  Sex   | count |\n",
       "+--------+-------+\n",
       "| Female |  220  |\n",
       "+--------+-------+"
      ]
     },
     "execution_count": 821,
     "metadata": {},
     "output_type": "execute_result"
    }
   ],
   "source": [
    "%%cql\n",
    "SELECT \"Sex\", count(1) FROM \"Accused_Sex\" WHERE \"Sex\" = 'Female';"
   ]
  },
  {
   "cell_type": "code",
   "execution_count": 823,
   "metadata": {
    "collapsed": false
   },
   "outputs": [
    {
     "name": "stdout",
     "output_type": "stream",
     "text": [
      "Male:  468 Accuseds.\n",
      "Female:  2702 Accuseds.\n"
     ]
    }
   ],
   "source": [
    "print \"Male: \", session.execute(\"SELECT count(*) from \\\"Accused_Sex\\\" WHERE \\\"Sex\\\" = 'Male' ALLOW FILTERING\")[0].count, \"Accuseds.\"\n",
    "print \"Female: \", session.execute(\"SELECT count(*) from \\\"Accused_Sex\\\" WHERE \\\"Sex\\\" = 'Female' ALLOW FILTERING\")[0].count, \"Accuseds.\""
   ]
  },
  {
   "cell_type": "markdown",
   "metadata": {},
   "source": [
    "### CONCLUSIÓN:\n",
    "#### Cassandra no es una buena elección para un sistema informacional, en el que necesitáramos construir consultas complejas para obtener información de los datos.\n",
    "#### Cada consulta requiere una tabla específica o una vista diseñada adhoc. Los índices solo deben utilizarse si los campos a indexar son discriminantes (alta cardinalidad)\n",
    "#### Definitivamente, no es recomendable para tratar el dataset elegido"
   ]
  }
 ],
 "metadata": {
  "kernelspec": {
   "display_name": "Python 2",
   "language": "python",
   "name": "python2"
  },
  "language_info": {
   "codemirror_mode": {
    "name": "ipython",
    "version": 2
   },
   "file_extension": ".py",
   "mimetype": "text/x-python",
   "name": "python",
   "nbconvert_exporter": "python",
   "pygments_lexer": "ipython2",
   "version": "2.7.6"
  }
 },
 "nbformat": 4,
 "nbformat_minor": 0
}
